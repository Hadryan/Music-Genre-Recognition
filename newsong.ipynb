{
  "nbformat": 4,
  "nbformat_minor": 0,
  "metadata": {
    "colab": {
      "name": "newsong.ipynb",
      "provenance": [],
      "collapsed_sections": [],
      "include_colab_link": true
    },
    "kernelspec": {
      "name": "python3",
      "display_name": "Python 3"
    }
  },
  "cells": [
    {
      "cell_type": "markdown",
      "metadata": {
        "id": "view-in-github",
        "colab_type": "text"
      },
      "source": [
        "<a href=\"https://colab.research.google.com/github/SahanaSwamy/Music-Genre-Recognition/blob/master/newsong.ipynb\" target=\"_parent\"><img src=\"https://colab.research.google.com/assets/colab-badge.svg\" alt=\"Open In Colab\"/></a>"
      ]
    },
    {
      "cell_type": "markdown",
      "metadata": {
        "id": "-i5bE1Y9oZYP",
        "colab_type": "text"
      },
      "source": [
        "##**This notebook is used to enter a song for the song popularity prediction model**"
      ]
    },
    {
      "cell_type": "code",
      "metadata": {
        "id": "uqtk7PB5dl72",
        "colab_type": "code",
        "colab": {}
      },
      "source": [
        "##mounting the google drive\n",
        "from google.colab import drive\n",
        "drive.mount('/gdrive')\n",
        "%cd /gdrive"
      ],
      "execution_count": null,
      "outputs": []
    },
    {
      "cell_type": "code",
      "metadata": {
        "id": "Amsi4lIfdzFn",
        "colab_type": "code",
        "colab": {
          "base_uri": "https://localhost:8080/",
          "height": 34
        },
        "outputId": "ced1c918-1156-47bd-fe6d-00635040e2cc"
      },
      "source": [
        "##setting the current path\n",
        "%cd /gdrive/My\\ Drive\n"
      ],
      "execution_count": null,
      "outputs": [
        {
          "output_type": "stream",
          "text": [
            "/gdrive/My Drive\n"
          ],
          "name": "stdout"
        }
      ]
    },
    {
      "cell_type": "markdown",
      "metadata": {
        "id": "0xyK6BuAojyY",
        "colab_type": "text"
      },
      "source": [
        "##IMPORTING LIBRARIES"
      ]
    },
    {
      "cell_type": "code",
      "metadata": {
        "id": "65eazmdAjMxn",
        "colab_type": "code",
        "colab": {}
      },
      "source": [
        "\n",
        "## Import Libraries\n",
        "\n",
        "import pandas as pd\n",
        "import numpy as np\n",
        "import seaborn as sns\n",
        "import matplotlib.pyplot as plt\n",
        "import pickle\n",
        "from sklearn import metrics\n",
        "from sklearn.metrics import accuracy_score\n",
        "from sklearn.model_selection import cross_val_score, GridSearchCV\n",
        "from sklearn.model_selection import KFold\n",
        "from sklearn.ensemble import RandomForestClassifier\n",
        "from sklearn.model_selection import train_test_split\n",
        "import copy\n",
        "import warnings\n",
        "from sklearn import preprocessing\n",
        "from sklearn.preprocessing import MinMaxScaler\n",
        "from sklearn.preprocessing import StandardScaler\n",
        "from sklearn.metrics import roc_auc_score\n",
        "\n",
        "\n",
        "## Suppress warnings on console\n",
        "warnings.filterwarnings(\"default\", category=DeprecationWarning)"
      ],
      "execution_count": null,
      "outputs": []
    },
    {
      "cell_type": "code",
      "metadata": {
        "id": "E_jPWIOOjRu1",
        "colab_type": "code",
        "colab": {}
      },
      "source": [
        "##read the input file\n",
        "input_file = pd.read_csv('sample.csv')"
      ],
      "execution_count": null,
      "outputs": []
    },
    {
      "cell_type": "code",
      "metadata": {
        "id": "bbc3SvIajYbd",
        "colab_type": "code",
        "colab": {
          "base_uri": "https://localhost:8080/",
          "height": 117
        },
        "outputId": "194a978e-a8ef-4eb6-eea7-300c6a0e97ff"
      },
      "source": [
        "##shuffle the dataframe\n",
        "input_file = input_file.sample(frac=1)\n",
        "input_file.head()"
      ],
      "execution_count": null,
      "outputs": [
        {
          "output_type": "execute_result",
          "data": {
            "text/html": [
              "<div>\n",
              "<style scoped>\n",
              "    .dataframe tbody tr th:only-of-type {\n",
              "        vertical-align: middle;\n",
              "    }\n",
              "\n",
              "    .dataframe tbody tr th {\n",
              "        vertical-align: top;\n",
              "    }\n",
              "\n",
              "    .dataframe thead th {\n",
              "        text-align: right;\n",
              "    }\n",
              "</style>\n",
              "<table border=\"1\" class=\"dataframe\">\n",
              "  <thead>\n",
              "    <tr style=\"text-align: right;\">\n",
              "      <th></th>\n",
              "      <th>acousticness</th>\n",
              "      <th>analysis_url</th>\n",
              "      <th>danceability</th>\n",
              "      <th>duration_ms</th>\n",
              "      <th>energy</th>\n",
              "      <th>track_id</th>\n",
              "      <th>instrumentalness</th>\n",
              "      <th>key</th>\n",
              "      <th>liveness</th>\n",
              "      <th>loudness</th>\n",
              "      <th>mode</th>\n",
              "      <th>speechiness</th>\n",
              "      <th>tempo</th>\n",
              "      <th>time_signature</th>\n",
              "      <th>track_href</th>\n",
              "      <th>type</th>\n",
              "      <th>uri</th>\n",
              "      <th>valence</th>\n",
              "      <th>artist_name</th>\n",
              "      <th>track_name</th>\n",
              "      <th>popularity</th>\n",
              "      <th>bbhot</th>\n",
              "      <th>artist_popularity</th>\n",
              "      <th>artist_followers</th>\n",
              "    </tr>\n",
              "  </thead>\n",
              "  <tbody>\n",
              "    <tr>\n",
              "      <th>0</th>\n",
              "      <td>0.685</td>\n",
              "      <td>https://api.spotify.com/v1/audio-analysis/2EgB...</td>\n",
              "      <td>0.42</td>\n",
              "      <td>196364</td>\n",
              "      <td>0.268</td>\n",
              "      <td>2EgB4n6XyBsuNUbuarr4eG</td>\n",
              "      <td>0</td>\n",
              "      <td>8</td>\n",
              "      <td>0.0812</td>\n",
              "      <td>-10.418</td>\n",
              "      <td>1</td>\n",
              "      <td>0.047</td>\n",
              "      <td>93.078</td>\n",
              "      <td>4</td>\n",
              "      <td>https://api.spotify.com/v1/tracks/2EgB4n6XyBsu...</td>\n",
              "      <td>audio_features</td>\n",
              "      <td>spotify:track:2EgB4n6XyBsuNUbuarr4eG</td>\n",
              "      <td>0.256</td>\n",
              "      <td>sample</td>\n",
              "      <td>sample</td>\n",
              "      <td>76</td>\n",
              "      <td>1</td>\n",
              "      <td>65</td>\n",
              "      <td>15875</td>\n",
              "    </tr>\n",
              "  </tbody>\n",
              "</table>\n",
              "</div>"
            ],
            "text/plain": [
              "   acousticness  ... artist_followers\n",
              "0         0.685  ...            15875\n",
              "\n",
              "[1 rows x 24 columns]"
            ]
          },
          "metadata": {
            "tags": []
          },
          "execution_count": 5
        }
      ]
    },
    {
      "cell_type": "code",
      "metadata": {
        "id": "2m_2NJFljaq9",
        "colab_type": "code",
        "colab": {
          "base_uri": "https://localhost:8080/",
          "height": 357
        },
        "outputId": "1c879f26-6cac-4e5b-872a-dddae87d10da"
      },
      "source": [
        "## Dropping fields (strings/objects)\n",
        "## the drop_list is 'analysis_url','track_id', 'track_href', 'type', 'uri', 'artist_name', 'track_name', 'key', 'mode', 'time_signature', 'popularity'\n",
        "\n",
        "drop_list = ['analysis_url','track_id', 'track_href', 'type', 'uri', \n",
        "             'artist_name', 'track_name', 'time_signature', 'popularity']\n",
        "\n",
        "             \n",
        "train = input_file.drop(drop_list, axis = 1)\n",
        "\n",
        "train.info()"
      ],
      "execution_count": null,
      "outputs": [
        {
          "output_type": "stream",
          "text": [
            "<class 'pandas.core.frame.DataFrame'>\n",
            "Int64Index: 1 entries, 0 to 0\n",
            "Data columns (total 15 columns):\n",
            "acousticness         1 non-null float64\n",
            "danceability         1 non-null float64\n",
            "duration_ms          1 non-null int64\n",
            "energy               1 non-null float64\n",
            "instrumentalness     1 non-null int64\n",
            "key                  1 non-null int64\n",
            "liveness             1 non-null float64\n",
            "loudness             1 non-null float64\n",
            "mode                 1 non-null int64\n",
            "speechiness          1 non-null float64\n",
            "tempo                1 non-null float64\n",
            "valence              1 non-null float64\n",
            "bbhot                1 non-null int64\n",
            "artist_popularity    1 non-null int64\n",
            "artist_followers     1 non-null int64\n",
            "dtypes: float64(8), int64(7)\n",
            "memory usage: 128.0 bytes\n"
          ],
          "name": "stdout"
        }
      ]
    },
    {
      "cell_type": "code",
      "metadata": {
        "id": "u-p-kNFJjere",
        "colab_type": "code",
        "colab": {
          "base_uri": "https://localhost:8080/",
          "height": 117
        },
        "outputId": "3cb707b6-bb2c-4db0-e3a1-ac6df5c8ad35"
      },
      "source": [
        "input_file.head()"
      ],
      "execution_count": null,
      "outputs": [
        {
          "output_type": "execute_result",
          "data": {
            "text/html": [
              "<div>\n",
              "<style scoped>\n",
              "    .dataframe tbody tr th:only-of-type {\n",
              "        vertical-align: middle;\n",
              "    }\n",
              "\n",
              "    .dataframe tbody tr th {\n",
              "        vertical-align: top;\n",
              "    }\n",
              "\n",
              "    .dataframe thead th {\n",
              "        text-align: right;\n",
              "    }\n",
              "</style>\n",
              "<table border=\"1\" class=\"dataframe\">\n",
              "  <thead>\n",
              "    <tr style=\"text-align: right;\">\n",
              "      <th></th>\n",
              "      <th>acousticness</th>\n",
              "      <th>analysis_url</th>\n",
              "      <th>danceability</th>\n",
              "      <th>duration_ms</th>\n",
              "      <th>energy</th>\n",
              "      <th>track_id</th>\n",
              "      <th>instrumentalness</th>\n",
              "      <th>key</th>\n",
              "      <th>liveness</th>\n",
              "      <th>loudness</th>\n",
              "      <th>mode</th>\n",
              "      <th>speechiness</th>\n",
              "      <th>tempo</th>\n",
              "      <th>time_signature</th>\n",
              "      <th>track_href</th>\n",
              "      <th>type</th>\n",
              "      <th>uri</th>\n",
              "      <th>valence</th>\n",
              "      <th>artist_name</th>\n",
              "      <th>track_name</th>\n",
              "      <th>popularity</th>\n",
              "      <th>bbhot</th>\n",
              "      <th>artist_popularity</th>\n",
              "      <th>artist_followers</th>\n",
              "    </tr>\n",
              "  </thead>\n",
              "  <tbody>\n",
              "    <tr>\n",
              "      <th>0</th>\n",
              "      <td>0.685</td>\n",
              "      <td>https://api.spotify.com/v1/audio-analysis/2EgB...</td>\n",
              "      <td>0.42</td>\n",
              "      <td>196364</td>\n",
              "      <td>0.268</td>\n",
              "      <td>2EgB4n6XyBsuNUbuarr4eG</td>\n",
              "      <td>0</td>\n",
              "      <td>8</td>\n",
              "      <td>0.0812</td>\n",
              "      <td>-10.418</td>\n",
              "      <td>1</td>\n",
              "      <td>0.047</td>\n",
              "      <td>93.078</td>\n",
              "      <td>4</td>\n",
              "      <td>https://api.spotify.com/v1/tracks/2EgB4n6XyBsu...</td>\n",
              "      <td>audio_features</td>\n",
              "      <td>spotify:track:2EgB4n6XyBsuNUbuarr4eG</td>\n",
              "      <td>0.256</td>\n",
              "      <td>sample</td>\n",
              "      <td>sample</td>\n",
              "      <td>76</td>\n",
              "      <td>1</td>\n",
              "      <td>65</td>\n",
              "      <td>15875</td>\n",
              "    </tr>\n",
              "  </tbody>\n",
              "</table>\n",
              "</div>"
            ],
            "text/plain": [
              "   acousticness  ... artist_followers\n",
              "0         0.685  ...            15875\n",
              "\n",
              "[1 rows x 24 columns]"
            ]
          },
          "metadata": {
            "tags": []
          },
          "execution_count": 7
        }
      ]
    },
    {
      "cell_type": "code",
      "metadata": {
        "id": "7enCNu3GjhPm",
        "colab_type": "code",
        "colab": {
          "base_uri": "https://localhost:8080/",
          "height": 317
        },
        "outputId": "5b7e7436-38af-4644-ab3b-d50f6bd16c3d"
      },
      "source": [
        "input_file.describe()"
      ],
      "execution_count": null,
      "outputs": [
        {
          "output_type": "execute_result",
          "data": {
            "text/html": [
              "<div>\n",
              "<style scoped>\n",
              "    .dataframe tbody tr th:only-of-type {\n",
              "        vertical-align: middle;\n",
              "    }\n",
              "\n",
              "    .dataframe tbody tr th {\n",
              "        vertical-align: top;\n",
              "    }\n",
              "\n",
              "    .dataframe thead th {\n",
              "        text-align: right;\n",
              "    }\n",
              "</style>\n",
              "<table border=\"1\" class=\"dataframe\">\n",
              "  <thead>\n",
              "    <tr style=\"text-align: right;\">\n",
              "      <th></th>\n",
              "      <th>acousticness</th>\n",
              "      <th>danceability</th>\n",
              "      <th>duration_ms</th>\n",
              "      <th>energy</th>\n",
              "      <th>instrumentalness</th>\n",
              "      <th>key</th>\n",
              "      <th>liveness</th>\n",
              "      <th>loudness</th>\n",
              "      <th>mode</th>\n",
              "      <th>speechiness</th>\n",
              "      <th>tempo</th>\n",
              "      <th>time_signature</th>\n",
              "      <th>valence</th>\n",
              "      <th>popularity</th>\n",
              "      <th>bbhot</th>\n",
              "      <th>artist_popularity</th>\n",
              "      <th>artist_followers</th>\n",
              "    </tr>\n",
              "  </thead>\n",
              "  <tbody>\n",
              "    <tr>\n",
              "      <th>count</th>\n",
              "      <td>1.000</td>\n",
              "      <td>1.00</td>\n",
              "      <td>1.0</td>\n",
              "      <td>1.000</td>\n",
              "      <td>1.0</td>\n",
              "      <td>1.0</td>\n",
              "      <td>1.0000</td>\n",
              "      <td>1.000</td>\n",
              "      <td>1.0</td>\n",
              "      <td>1.000</td>\n",
              "      <td>1.000</td>\n",
              "      <td>1.0</td>\n",
              "      <td>1.000</td>\n",
              "      <td>1.0</td>\n",
              "      <td>1.0</td>\n",
              "      <td>1.0</td>\n",
              "      <td>1.0</td>\n",
              "    </tr>\n",
              "    <tr>\n",
              "      <th>mean</th>\n",
              "      <td>0.685</td>\n",
              "      <td>0.42</td>\n",
              "      <td>196364.0</td>\n",
              "      <td>0.268</td>\n",
              "      <td>0.0</td>\n",
              "      <td>8.0</td>\n",
              "      <td>0.0812</td>\n",
              "      <td>-10.418</td>\n",
              "      <td>1.0</td>\n",
              "      <td>0.047</td>\n",
              "      <td>93.078</td>\n",
              "      <td>4.0</td>\n",
              "      <td>0.256</td>\n",
              "      <td>76.0</td>\n",
              "      <td>1.0</td>\n",
              "      <td>65.0</td>\n",
              "      <td>15875.0</td>\n",
              "    </tr>\n",
              "    <tr>\n",
              "      <th>std</th>\n",
              "      <td>NaN</td>\n",
              "      <td>NaN</td>\n",
              "      <td>NaN</td>\n",
              "      <td>NaN</td>\n",
              "      <td>NaN</td>\n",
              "      <td>NaN</td>\n",
              "      <td>NaN</td>\n",
              "      <td>NaN</td>\n",
              "      <td>NaN</td>\n",
              "      <td>NaN</td>\n",
              "      <td>NaN</td>\n",
              "      <td>NaN</td>\n",
              "      <td>NaN</td>\n",
              "      <td>NaN</td>\n",
              "      <td>NaN</td>\n",
              "      <td>NaN</td>\n",
              "      <td>NaN</td>\n",
              "    </tr>\n",
              "    <tr>\n",
              "      <th>min</th>\n",
              "      <td>0.685</td>\n",
              "      <td>0.42</td>\n",
              "      <td>196364.0</td>\n",
              "      <td>0.268</td>\n",
              "      <td>0.0</td>\n",
              "      <td>8.0</td>\n",
              "      <td>0.0812</td>\n",
              "      <td>-10.418</td>\n",
              "      <td>1.0</td>\n",
              "      <td>0.047</td>\n",
              "      <td>93.078</td>\n",
              "      <td>4.0</td>\n",
              "      <td>0.256</td>\n",
              "      <td>76.0</td>\n",
              "      <td>1.0</td>\n",
              "      <td>65.0</td>\n",
              "      <td>15875.0</td>\n",
              "    </tr>\n",
              "    <tr>\n",
              "      <th>25%</th>\n",
              "      <td>0.685</td>\n",
              "      <td>0.42</td>\n",
              "      <td>196364.0</td>\n",
              "      <td>0.268</td>\n",
              "      <td>0.0</td>\n",
              "      <td>8.0</td>\n",
              "      <td>0.0812</td>\n",
              "      <td>-10.418</td>\n",
              "      <td>1.0</td>\n",
              "      <td>0.047</td>\n",
              "      <td>93.078</td>\n",
              "      <td>4.0</td>\n",
              "      <td>0.256</td>\n",
              "      <td>76.0</td>\n",
              "      <td>1.0</td>\n",
              "      <td>65.0</td>\n",
              "      <td>15875.0</td>\n",
              "    </tr>\n",
              "    <tr>\n",
              "      <th>50%</th>\n",
              "      <td>0.685</td>\n",
              "      <td>0.42</td>\n",
              "      <td>196364.0</td>\n",
              "      <td>0.268</td>\n",
              "      <td>0.0</td>\n",
              "      <td>8.0</td>\n",
              "      <td>0.0812</td>\n",
              "      <td>-10.418</td>\n",
              "      <td>1.0</td>\n",
              "      <td>0.047</td>\n",
              "      <td>93.078</td>\n",
              "      <td>4.0</td>\n",
              "      <td>0.256</td>\n",
              "      <td>76.0</td>\n",
              "      <td>1.0</td>\n",
              "      <td>65.0</td>\n",
              "      <td>15875.0</td>\n",
              "    </tr>\n",
              "    <tr>\n",
              "      <th>75%</th>\n",
              "      <td>0.685</td>\n",
              "      <td>0.42</td>\n",
              "      <td>196364.0</td>\n",
              "      <td>0.268</td>\n",
              "      <td>0.0</td>\n",
              "      <td>8.0</td>\n",
              "      <td>0.0812</td>\n",
              "      <td>-10.418</td>\n",
              "      <td>1.0</td>\n",
              "      <td>0.047</td>\n",
              "      <td>93.078</td>\n",
              "      <td>4.0</td>\n",
              "      <td>0.256</td>\n",
              "      <td>76.0</td>\n",
              "      <td>1.0</td>\n",
              "      <td>65.0</td>\n",
              "      <td>15875.0</td>\n",
              "    </tr>\n",
              "    <tr>\n",
              "      <th>max</th>\n",
              "      <td>0.685</td>\n",
              "      <td>0.42</td>\n",
              "      <td>196364.0</td>\n",
              "      <td>0.268</td>\n",
              "      <td>0.0</td>\n",
              "      <td>8.0</td>\n",
              "      <td>0.0812</td>\n",
              "      <td>-10.418</td>\n",
              "      <td>1.0</td>\n",
              "      <td>0.047</td>\n",
              "      <td>93.078</td>\n",
              "      <td>4.0</td>\n",
              "      <td>0.256</td>\n",
              "      <td>76.0</td>\n",
              "      <td>1.0</td>\n",
              "      <td>65.0</td>\n",
              "      <td>15875.0</td>\n",
              "    </tr>\n",
              "  </tbody>\n",
              "</table>\n",
              "</div>"
            ],
            "text/plain": [
              "       acousticness  danceability  ...  artist_popularity  artist_followers\n",
              "count         1.000          1.00  ...                1.0               1.0\n",
              "mean          0.685          0.42  ...               65.0           15875.0\n",
              "std             NaN           NaN  ...                NaN               NaN\n",
              "min           0.685          0.42  ...               65.0           15875.0\n",
              "25%           0.685          0.42  ...               65.0           15875.0\n",
              "50%           0.685          0.42  ...               65.0           15875.0\n",
              "75%           0.685          0.42  ...               65.0           15875.0\n",
              "max           0.685          0.42  ...               65.0           15875.0\n",
              "\n",
              "[8 rows x 17 columns]"
            ]
          },
          "metadata": {
            "tags": []
          },
          "execution_count": 8
        }
      ]
    },
    {
      "cell_type": "code",
      "metadata": {
        "id": "K0uBzJuAjjZm",
        "colab_type": "code",
        "colab": {
          "base_uri": "https://localhost:8080/",
          "height": 34
        },
        "outputId": "b702a06c-12e6-445c-84c0-9f1f08b39533"
      },
      "source": [
        "## Making a copy of dataframe target variable and assigning it to Y\n",
        "Y = copy.deepcopy(train.bbhot)\n",
        "Y.shape"
      ],
      "execution_count": null,
      "outputs": [
        {
          "output_type": "execute_result",
          "data": {
            "text/plain": [
              "(1,)"
            ]
          },
          "metadata": {
            "tags": []
          },
          "execution_count": 9
        }
      ]
    },
    {
      "cell_type": "code",
      "metadata": {
        "id": "AMy1FrOHjp32",
        "colab_type": "code",
        "colab": {
          "base_uri": "https://localhost:8080/",
          "height": 100
        },
        "outputId": "8c90fe89-08a9-4cf4-a565-ee4862d89650"
      },
      "source": [
        "## Dropping the target attribute and making new dataframe\n",
        "\n",
        "train_1 = train.drop(\"bbhot\", axis=1)\n",
        "train_1.head()"
      ],
      "execution_count": null,
      "outputs": [
        {
          "output_type": "execute_result",
          "data": {
            "text/html": [
              "<div>\n",
              "<style scoped>\n",
              "    .dataframe tbody tr th:only-of-type {\n",
              "        vertical-align: middle;\n",
              "    }\n",
              "\n",
              "    .dataframe tbody tr th {\n",
              "        vertical-align: top;\n",
              "    }\n",
              "\n",
              "    .dataframe thead th {\n",
              "        text-align: right;\n",
              "    }\n",
              "</style>\n",
              "<table border=\"1\" class=\"dataframe\">\n",
              "  <thead>\n",
              "    <tr style=\"text-align: right;\">\n",
              "      <th></th>\n",
              "      <th>acousticness</th>\n",
              "      <th>danceability</th>\n",
              "      <th>duration_ms</th>\n",
              "      <th>energy</th>\n",
              "      <th>instrumentalness</th>\n",
              "      <th>key</th>\n",
              "      <th>liveness</th>\n",
              "      <th>loudness</th>\n",
              "      <th>mode</th>\n",
              "      <th>speechiness</th>\n",
              "      <th>tempo</th>\n",
              "      <th>valence</th>\n",
              "      <th>artist_popularity</th>\n",
              "      <th>artist_followers</th>\n",
              "    </tr>\n",
              "  </thead>\n",
              "  <tbody>\n",
              "    <tr>\n",
              "      <th>0</th>\n",
              "      <td>0.685</td>\n",
              "      <td>0.42</td>\n",
              "      <td>196364</td>\n",
              "      <td>0.268</td>\n",
              "      <td>0</td>\n",
              "      <td>8</td>\n",
              "      <td>0.0812</td>\n",
              "      <td>-10.418</td>\n",
              "      <td>1</td>\n",
              "      <td>0.047</td>\n",
              "      <td>93.078</td>\n",
              "      <td>0.256</td>\n",
              "      <td>65</td>\n",
              "      <td>15875</td>\n",
              "    </tr>\n",
              "  </tbody>\n",
              "</table>\n",
              "</div>"
            ],
            "text/plain": [
              "   acousticness  danceability  ...  artist_popularity  artist_followers\n",
              "0         0.685          0.42  ...                 65             15875\n",
              "\n",
              "[1 rows x 14 columns]"
            ]
          },
          "metadata": {
            "tags": []
          },
          "execution_count": 10
        }
      ]
    },
    {
      "cell_type": "code",
      "metadata": {
        "id": "u_usgXx6m_Tn",
        "colab_type": "code",
        "colab": {}
      },
      "source": [
        "##we are loading the scaler1 pickle object from randomforest.ipynb\n",
        "\n",
        "import pickle\n",
        "with open(r\"scaler1.pickle\", \"rb\") as input_file:\n",
        "  scaler1 = pickle.load(input_file)"
      ],
      "execution_count": null,
      "outputs": []
    },
    {
      "cell_type": "code",
      "metadata": {
        "id": "ktRdbu5ToDh6",
        "colab_type": "code",
        "colab": {}
      },
      "source": [
        "##transforming the input\n",
        "scaled_features = scaler1.transform(train_1)"
      ],
      "execution_count": null,
      "outputs": []
    },
    {
      "cell_type": "code",
      "metadata": {
        "id": "D7mWTYpToEbf",
        "colab_type": "code",
        "colab": {
          "base_uri": "https://localhost:8080/",
          "height": 100
        },
        "outputId": "bf5a332b-4a63-4830-ee5f-bb835f348782"
      },
      "source": [
        "df_feat = pd.DataFrame(scaled_features,columns=train_1.columns)\n",
        "df_feat.head()"
      ],
      "execution_count": null,
      "outputs": [
        {
          "output_type": "execute_result",
          "data": {
            "text/html": [
              "<div>\n",
              "<style scoped>\n",
              "    .dataframe tbody tr th:only-of-type {\n",
              "        vertical-align: middle;\n",
              "    }\n",
              "\n",
              "    .dataframe tbody tr th {\n",
              "        vertical-align: top;\n",
              "    }\n",
              "\n",
              "    .dataframe thead th {\n",
              "        text-align: right;\n",
              "    }\n",
              "</style>\n",
              "<table border=\"1\" class=\"dataframe\">\n",
              "  <thead>\n",
              "    <tr style=\"text-align: right;\">\n",
              "      <th></th>\n",
              "      <th>acousticness</th>\n",
              "      <th>danceability</th>\n",
              "      <th>duration_ms</th>\n",
              "      <th>energy</th>\n",
              "      <th>instrumentalness</th>\n",
              "      <th>key</th>\n",
              "      <th>liveness</th>\n",
              "      <th>loudness</th>\n",
              "      <th>mode</th>\n",
              "      <th>speechiness</th>\n",
              "      <th>tempo</th>\n",
              "      <th>valence</th>\n",
              "      <th>artist_popularity</th>\n",
              "      <th>artist_followers</th>\n",
              "    </tr>\n",
              "  </thead>\n",
              "  <tbody>\n",
              "    <tr>\n",
              "      <th>0</th>\n",
              "      <td>0.68775</td>\n",
              "      <td>0.432099</td>\n",
              "      <td>0.121999</td>\n",
              "      <td>0.267877</td>\n",
              "      <td>0.0</td>\n",
              "      <td>0.727273</td>\n",
              "      <td>0.064207</td>\n",
              "      <td>0.738432</td>\n",
              "      <td>1.0</td>\n",
              "      <td>0.048654</td>\n",
              "      <td>0.422892</td>\n",
              "      <td>0.258586</td>\n",
              "      <td>0.65</td>\n",
              "      <td>0.000363</td>\n",
              "    </tr>\n",
              "  </tbody>\n",
              "</table>\n",
              "</div>"
            ],
            "text/plain": [
              "   acousticness  danceability  ...  artist_popularity  artist_followers\n",
              "0       0.68775      0.432099  ...               0.65          0.000363\n",
              "\n",
              "[1 rows x 14 columns]"
            ]
          },
          "metadata": {
            "tags": []
          },
          "execution_count": 13
        }
      ]
    },
    {
      "cell_type": "code",
      "metadata": {
        "id": "f9IOhwFCobYn",
        "colab_type": "code",
        "colab": {
          "base_uri": "https://localhost:8080/",
          "height": 317
        },
        "outputId": "ce45bd4e-056c-413a-b1f8-5d18998cc77a"
      },
      "source": [
        "df_feat.describe()"
      ],
      "execution_count": null,
      "outputs": [
        {
          "output_type": "execute_result",
          "data": {
            "text/html": [
              "<div>\n",
              "<style scoped>\n",
              "    .dataframe tbody tr th:only-of-type {\n",
              "        vertical-align: middle;\n",
              "    }\n",
              "\n",
              "    .dataframe tbody tr th {\n",
              "        vertical-align: top;\n",
              "    }\n",
              "\n",
              "    .dataframe thead th {\n",
              "        text-align: right;\n",
              "    }\n",
              "</style>\n",
              "<table border=\"1\" class=\"dataframe\">\n",
              "  <thead>\n",
              "    <tr style=\"text-align: right;\">\n",
              "      <th></th>\n",
              "      <th>acousticness</th>\n",
              "      <th>danceability</th>\n",
              "      <th>duration_ms</th>\n",
              "      <th>energy</th>\n",
              "      <th>instrumentalness</th>\n",
              "      <th>key</th>\n",
              "      <th>liveness</th>\n",
              "      <th>loudness</th>\n",
              "      <th>mode</th>\n",
              "      <th>speechiness</th>\n",
              "      <th>tempo</th>\n",
              "      <th>valence</th>\n",
              "      <th>artist_popularity</th>\n",
              "      <th>artist_followers</th>\n",
              "    </tr>\n",
              "  </thead>\n",
              "  <tbody>\n",
              "    <tr>\n",
              "      <th>count</th>\n",
              "      <td>1.00000</td>\n",
              "      <td>1.000000</td>\n",
              "      <td>1.000000</td>\n",
              "      <td>1.000000</td>\n",
              "      <td>1.0</td>\n",
              "      <td>1.000000</td>\n",
              "      <td>1.000000</td>\n",
              "      <td>1.000000</td>\n",
              "      <td>1.0</td>\n",
              "      <td>1.000000</td>\n",
              "      <td>1.000000</td>\n",
              "      <td>1.000000</td>\n",
              "      <td>1.00</td>\n",
              "      <td>1.000000</td>\n",
              "    </tr>\n",
              "    <tr>\n",
              "      <th>mean</th>\n",
              "      <td>0.68775</td>\n",
              "      <td>0.432099</td>\n",
              "      <td>0.121999</td>\n",
              "      <td>0.267877</td>\n",
              "      <td>0.0</td>\n",
              "      <td>0.727273</td>\n",
              "      <td>0.064207</td>\n",
              "      <td>0.738432</td>\n",
              "      <td>1.0</td>\n",
              "      <td>0.048654</td>\n",
              "      <td>0.422892</td>\n",
              "      <td>0.258586</td>\n",
              "      <td>0.65</td>\n",
              "      <td>0.000363</td>\n",
              "    </tr>\n",
              "    <tr>\n",
              "      <th>std</th>\n",
              "      <td>NaN</td>\n",
              "      <td>NaN</td>\n",
              "      <td>NaN</td>\n",
              "      <td>NaN</td>\n",
              "      <td>NaN</td>\n",
              "      <td>NaN</td>\n",
              "      <td>NaN</td>\n",
              "      <td>NaN</td>\n",
              "      <td>NaN</td>\n",
              "      <td>NaN</td>\n",
              "      <td>NaN</td>\n",
              "      <td>NaN</td>\n",
              "      <td>NaN</td>\n",
              "      <td>NaN</td>\n",
              "    </tr>\n",
              "    <tr>\n",
              "      <th>min</th>\n",
              "      <td>0.68775</td>\n",
              "      <td>0.432099</td>\n",
              "      <td>0.121999</td>\n",
              "      <td>0.267877</td>\n",
              "      <td>0.0</td>\n",
              "      <td>0.727273</td>\n",
              "      <td>0.064207</td>\n",
              "      <td>0.738432</td>\n",
              "      <td>1.0</td>\n",
              "      <td>0.048654</td>\n",
              "      <td>0.422892</td>\n",
              "      <td>0.258586</td>\n",
              "      <td>0.65</td>\n",
              "      <td>0.000363</td>\n",
              "    </tr>\n",
              "    <tr>\n",
              "      <th>25%</th>\n",
              "      <td>0.68775</td>\n",
              "      <td>0.432099</td>\n",
              "      <td>0.121999</td>\n",
              "      <td>0.267877</td>\n",
              "      <td>0.0</td>\n",
              "      <td>0.727273</td>\n",
              "      <td>0.064207</td>\n",
              "      <td>0.738432</td>\n",
              "      <td>1.0</td>\n",
              "      <td>0.048654</td>\n",
              "      <td>0.422892</td>\n",
              "      <td>0.258586</td>\n",
              "      <td>0.65</td>\n",
              "      <td>0.000363</td>\n",
              "    </tr>\n",
              "    <tr>\n",
              "      <th>50%</th>\n",
              "      <td>0.68775</td>\n",
              "      <td>0.432099</td>\n",
              "      <td>0.121999</td>\n",
              "      <td>0.267877</td>\n",
              "      <td>0.0</td>\n",
              "      <td>0.727273</td>\n",
              "      <td>0.064207</td>\n",
              "      <td>0.738432</td>\n",
              "      <td>1.0</td>\n",
              "      <td>0.048654</td>\n",
              "      <td>0.422892</td>\n",
              "      <td>0.258586</td>\n",
              "      <td>0.65</td>\n",
              "      <td>0.000363</td>\n",
              "    </tr>\n",
              "    <tr>\n",
              "      <th>75%</th>\n",
              "      <td>0.68775</td>\n",
              "      <td>0.432099</td>\n",
              "      <td>0.121999</td>\n",
              "      <td>0.267877</td>\n",
              "      <td>0.0</td>\n",
              "      <td>0.727273</td>\n",
              "      <td>0.064207</td>\n",
              "      <td>0.738432</td>\n",
              "      <td>1.0</td>\n",
              "      <td>0.048654</td>\n",
              "      <td>0.422892</td>\n",
              "      <td>0.258586</td>\n",
              "      <td>0.65</td>\n",
              "      <td>0.000363</td>\n",
              "    </tr>\n",
              "    <tr>\n",
              "      <th>max</th>\n",
              "      <td>0.68775</td>\n",
              "      <td>0.432099</td>\n",
              "      <td>0.121999</td>\n",
              "      <td>0.267877</td>\n",
              "      <td>0.0</td>\n",
              "      <td>0.727273</td>\n",
              "      <td>0.064207</td>\n",
              "      <td>0.738432</td>\n",
              "      <td>1.0</td>\n",
              "      <td>0.048654</td>\n",
              "      <td>0.422892</td>\n",
              "      <td>0.258586</td>\n",
              "      <td>0.65</td>\n",
              "      <td>0.000363</td>\n",
              "    </tr>\n",
              "  </tbody>\n",
              "</table>\n",
              "</div>"
            ],
            "text/plain": [
              "       acousticness  danceability  ...  artist_popularity  artist_followers\n",
              "count       1.00000      1.000000  ...               1.00          1.000000\n",
              "mean        0.68775      0.432099  ...               0.65          0.000363\n",
              "std             NaN           NaN  ...                NaN               NaN\n",
              "min         0.68775      0.432099  ...               0.65          0.000363\n",
              "25%         0.68775      0.432099  ...               0.65          0.000363\n",
              "50%         0.68775      0.432099  ...               0.65          0.000363\n",
              "75%         0.68775      0.432099  ...               0.65          0.000363\n",
              "max         0.68775      0.432099  ...               0.65          0.000363\n",
              "\n",
              "[8 rows x 14 columns]"
            ]
          },
          "metadata": {
            "tags": []
          },
          "execution_count": 14
        }
      ]
    },
    {
      "cell_type": "markdown",
      "metadata": {
        "id": "ndMcFM3wo9o0",
        "colab_type": "text"
      },
      "source": [
        "##**Importing the model and predicting the output**"
      ]
    },
    {
      "cell_type": "code",
      "metadata": {
        "id": "xdo2EA4Moq_H",
        "colab_type": "code",
        "colab": {}
      },
      "source": [
        "##loading the model pickle object\n",
        "import pickle\n",
        "with open(r\"rf.pickle\", \"rb\") as input_file:\n",
        "  rf = pickle.load(input_file)"
      ],
      "execution_count": null,
      "outputs": []
    },
    {
      "cell_type": "code",
      "metadata": {
        "id": "nlRXWGpTt5J4",
        "colab_type": "code",
        "colab": {
          "base_uri": "https://localhost:8080/",
          "height": 34
        },
        "outputId": "ff0ed7c4-cff5-4588-b7d9-e9eff92cc36d"
      },
      "source": [
        "rf.predict(df_feat)"
      ],
      "execution_count": null,
      "outputs": [
        {
          "output_type": "execute_result",
          "data": {
            "text/plain": [
              "array([1])"
            ]
          },
          "metadata": {
            "tags": []
          },
          "execution_count": 16
        }
      ]
    },
    {
      "cell_type": "code",
      "metadata": {
        "id": "y6E_I-I1D-ZL",
        "colab_type": "code",
        "colab": {
          "base_uri": "https://localhost:8080/",
          "height": 34
        },
        "outputId": "3c3f1c57-7f45-44ae-c147-fa8f890fd7ce"
      },
      "source": [
        "rf.score(df_feat, Y)"
      ],
      "execution_count": null,
      "outputs": [
        {
          "output_type": "execute_result",
          "data": {
            "text/plain": [
              "1.0"
            ]
          },
          "metadata": {
            "tags": []
          },
          "execution_count": 17
        }
      ]
    },
    {
      "cell_type": "code",
      "metadata": {
        "id": "LsUx0TwKuJ8w",
        "colab_type": "code",
        "colab": {}
      },
      "source": [
        "##predicting the non hit and hit\n",
        "predictions = rf.predict_proba(df_feat)\n"
      ],
      "execution_count": null,
      "outputs": []
    },
    {
      "cell_type": "code",
      "metadata": {
        "id": "fLgVvAh4uXAX",
        "colab_type": "code",
        "colab": {
          "base_uri": "https://localhost:8080/",
          "height": 34
        },
        "outputId": "277f8661-58ac-4659-b61c-5d83aa3fe608"
      },
      "source": [
        "predictions[0]"
      ],
      "execution_count": null,
      "outputs": [
        {
          "output_type": "execute_result",
          "data": {
            "text/plain": [
              "array([0.18333333, 0.81666667])"
            ]
          },
          "metadata": {
            "tags": []
          },
          "execution_count": 19
        }
      ]
    },
    {
      "cell_type": "code",
      "metadata": {
        "id": "MUkgZxQ6uYQo",
        "colab_type": "code",
        "colab": {
          "base_uri": "https://localhost:8080/",
          "height": 34
        },
        "outputId": "36330d5e-b00f-48c8-b1a5-89dc63d714d6"
      },
      "source": [
        "print(\"The probablity of the new song being a non-hit and hit is\" ,predictions)\n",
        "\n"
      ],
      "execution_count": null,
      "outputs": [
        {
          "output_type": "stream",
          "text": [
            "The probablity of the new song being a non-hit and hit is [[0.18333333 0.81666667]]\n"
          ],
          "name": "stdout"
        }
      ]
    }
  ]
}