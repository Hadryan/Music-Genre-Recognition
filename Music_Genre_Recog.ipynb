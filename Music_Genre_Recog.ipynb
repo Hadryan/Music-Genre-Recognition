{
  "nbformat": 4,
  "nbformat_minor": 0,
  "metadata": {
    "colab": {
      "name": "Music_Genre_Recog.ipynb",
      "provenance": [],
      "collapsed_sections": [],
      "include_colab_link": true
    },
    "kernelspec": {
      "name": "python3",
      "display_name": "Python 3"
    },
    "accelerator": "TPU"
  },
  "cells": [
    {
      "cell_type": "markdown",
      "metadata": {
        "id": "view-in-github",
        "colab_type": "text"
      },
      "source": [
        "<a href=\"https://colab.research.google.com/github/SahanaSwamy/Music-Genre-Recognition/blob/master/Music_Genre_Recog.ipynb\" target=\"_parent\"><img src=\"https://colab.research.google.com/assets/colab-badge.svg\" alt=\"Open In Colab\"/></a>"
      ]
    },
    {
      "cell_type": "markdown",
      "metadata": {
        "id": "kjYBmn7K_HwR",
        "colab_type": "text"
      },
      "source": [
        "#**MUSIC GENRE RECOGNITION**"
      ]
    },
    {
      "cell_type": "markdown",
      "metadata": {
        "id": "-HxbMrgQn3qG",
        "colab_type": "text"
      },
      "source": [
        "##**IMPORTING LIBRARIES**"
      ]
    },
    {
      "cell_type": "code",
      "metadata": {
        "id": "RE9Oh0cMa4Sy",
        "colab_type": "code",
        "colab": {}
      },
      "source": [
        "# feature extractoring and preprocessing data\n",
        "import librosa\n",
        "import pandas as pd\n",
        "import numpy as np\n",
        "import matplotlib.pyplot as plt\n",
        "%matplotlib inline\n",
        "import os\n",
        "from PIL import Image\n",
        "import pathlib\n",
        "import csv\n",
        "\n",
        "# Preprocessing\n",
        "from sklearn.model_selection import train_test_split\n",
        "from sklearn.preprocessing import LabelEncoder, StandardScaler\n",
        "\n",
        "\n",
        "import keras\n",
        "\n",
        "import warnings\n",
        "warnings.filterwarnings('ignore')"
      ],
      "execution_count": null,
      "outputs": []
    },
    {
      "cell_type": "code",
      "metadata": {
        "id": "TmiGuGgWbM-g",
        "colab_type": "code",
        "colab": {
          "base_uri": "https://localhost:8080/",
          "height": 34
        },
        "outputId": "a42de2c6-6c0d-43a0-b768-9b5988c162a9"
      },
      "source": [
        "!ls"
      ],
      "execution_count": null,
      "outputs": [
        {
          "output_type": "stream",
          "text": [
            "sample_data\n"
          ],
          "name": "stdout"
        }
      ]
    },
    {
      "cell_type": "code",
      "metadata": {
        "id": "k1AwI2z1bN6n",
        "colab_type": "code",
        "colab": {
          "base_uri": "https://localhost:8080/",
          "height": 139
        },
        "outputId": "bfd803b9-5d6b-49b8-add6-784c645ce502"
      },
      "source": [
        "##mouting the google drive\n",
        "\n",
        "from google.colab import drive\n",
        "drive.mount('/gdrive')\n",
        "%cd /gdrive"
      ],
      "execution_count": null,
      "outputs": [
        {
          "output_type": "stream",
          "text": [
            "Go to this URL in a browser: https://accounts.google.com/o/oauth2/auth?client_id=947318989803-6bn6qk8qdgf4n4g3pfee6491hc0brc4i.apps.googleusercontent.com&redirect_uri=urn%3Aietf%3Awg%3Aoauth%3A2.0%3Aoob&scope=email%20https%3A%2F%2Fwww.googleapis.com%2Fauth%2Fdocs.test%20https%3A%2F%2Fwww.googleapis.com%2Fauth%2Fdrive%20https%3A%2F%2Fwww.googleapis.com%2Fauth%2Fdrive.photos.readonly%20https%3A%2F%2Fwww.googleapis.com%2Fauth%2Fpeopleapi.readonly&response_type=code\n",
            "\n",
            "Enter your authorization code:\n",
            "··········\n",
            "Mounted at /gdrive\n",
            "/gdrive\n"
          ],
          "name": "stdout"
        }
      ]
    },
    {
      "cell_type": "code",
      "metadata": {
        "id": "KIh567yebQ9v",
        "colab_type": "code",
        "colab": {
          "base_uri": "https://localhost:8080/",
          "height": 34
        },
        "outputId": "bdfe3eba-b0e1-4889-ce24-c70d310fd839"
      },
      "source": [
        "##this is the current directory\n",
        "\n",
        "%cd /gdrive/My\\ Drive/genres"
      ],
      "execution_count": null,
      "outputs": [
        {
          "output_type": "stream",
          "text": [
            "/gdrive/My Drive/genres\n"
          ],
          "name": "stdout"
        }
      ]
    },
    {
      "cell_type": "code",
      "metadata": {
        "id": "WlrQw4h7bWZZ",
        "colab_type": "code",
        "colab": {
          "base_uri": "https://localhost:8080/",
          "height": 153
        },
        "outputId": "0e37b43e-2058-4b76-d6f0-a830db59133d"
      },
      "source": [
        "!ls"
      ],
      "execution_count": null,
      "outputs": [
        {
          "output_type": "stream",
          "text": [
            " anysong.ipynb\t  hiphop\t newdata.csv\t    scaler.pickle\n",
            " blues\t\t  img_data\t'newsong (1).mp3'   X1.pickle\n",
            " classical\t  jazz\t\t newsong.mp3\t    X2.pickle\n",
            " classical.mp3\t  metal\t\t pop\t\t    X.pickle\n",
            " country\t  my_model.h5\t reggae\t\t    y1.pickle\n",
            " data.csv\t  newdata1.csv\t rock\t\t    y2.pickle\n",
            " disco\t\t  newdata2.csv\t rough1.ipynb\n",
            " FinalMus.model   newdata3.csv\t scaler\n"
          ],
          "name": "stdout"
        }
      ]
    },
    {
      "cell_type": "markdown",
      "metadata": {
        "id": "kGoExpyPoOyc",
        "colab_type": "text"
      },
      "source": [
        "##**SPECTOGRAM CREATION**"
      ]
    },
    {
      "cell_type": "code",
      "metadata": {
        "id": "TM8lsGvCmRRB",
        "colab_type": "code",
        "colab": {}
      },
      "source": [
        "##Creating the spectogram for the songs\n",
        "\n",
        "cmap = plt.get_cmap('inferno')\n",
        "import time\n",
        "plt.figure(figsize=(10,10))\n",
        "genres = 'blues classical country disco hiphop jazz metal pop reggae rock'.split()\n",
        "for g in genres: \n",
        "    for filename in os.listdir(g):\n",
        "      print(filename)\n",
        "      songname = f'{g}/{filename}'\n",
        "      print(songname)\n",
        "      print('filename is')\n",
        "      print(filename)\n",
        "      y, sr = librosa.load(songname, mono=True, duration=5)\n",
        "      plt.specgram(y, NFFT=2048, Fs=2, Fc=0, noverlap=128, cmap=cmap, sides='default', mode='default', scale='dB');\n",
        "      plt.axis('off');\n",
        "      time.sleep(1)\n",
        "      plt.savefig(f'img_data/{g}/{filename[:-3].replace(\".\", \"\")}.png')\n",
        "      plt.clf()"
      ],
      "execution_count": null,
      "outputs": []
    },
    {
      "cell_type": "code",
      "metadata": {
        "id": "FSpFEU_ds6Fk",
        "colab_type": "code",
        "colab": {}
      },
      "source": [
        "##creating the header for the csv file\n",
        "\n",
        "header = 'filename chroma_stft rmse spectral_centroid spectral_bandwidth rolloff zero_crossing_rate'\n",
        "for i in range(1, 21):\n",
        "    header += f' mfcc{i}'\n",
        "header += ' label'\n",
        "header = header.split()"
      ],
      "execution_count": null,
      "outputs": []
    },
    {
      "cell_type": "markdown",
      "metadata": {
        "id": "D69X1IPvoUNZ",
        "colab_type": "text"
      },
      "source": [
        "##**CSV FILE CREATION**"
      ]
    },
    {
      "cell_type": "code",
      "metadata": {
        "id": "SNjoFu1KnbpU",
        "colab_type": "code",
        "colab": {}
      },
      "source": [
        "##Creating the csv file from the spectograms\n",
        "\n",
        "file = open('data.csv', 'w', newline='')\n",
        "with file:\n",
        "    writer = csv.writer(file)\n",
        "    writer.writerow(header)\n",
        "genres = 'blues classical country disco hiphop jazz metal pop reggae rock'.split()\n",
        "for g in genres:\n",
        "    for filename in os.listdir(g):\n",
        "        songname = f'{g}/{filename}'\n",
        "        y, sr = librosa.load(songname, mono=True, duration=30)\n",
        "        chroma_stft = librosa.feature.chroma_stft(y=y, sr=sr)\n",
        "        rmse = librosa.feature.rmse(y=y)\n",
        "        spec_cent = librosa.feature.spectral_centroid(y=y, sr=sr)\n",
        "        spec_bw = librosa.feature.spectral_bandwidth(y=y, sr=sr)\n",
        "        rolloff = librosa.feature.spectral_rolloff(y=y, sr=sr)\n",
        "        zcr = librosa.feature.zero_crossing_rate(y)\n",
        "        mfcc = librosa.feature.mfcc(y=y, sr=sr)\n",
        "        to_append = f'{filename} {np.mean(chroma_stft)} {np.mean(rmse)} {np.mean(spec_cent)} {np.mean(spec_bw)} {np.mean(rolloff)} {np.mean(zcr)}'    \n",
        "        for e in mfcc:\n",
        "            to_append += f' {np.mean(e)}'\n",
        "        to_append += f' {g}'\n",
        "        file = open('data.csv', 'a', newline='')\n",
        "        with file:\n",
        "            writer = csv.writer(file)\n",
        "            writer.writerow(to_append.split())"
      ],
      "execution_count": null,
      "outputs": []
    },
    {
      "cell_type": "code",
      "metadata": {
        "id": "T1ZUZ_Q4uqO3",
        "colab_type": "code",
        "colab": {
          "base_uri": "https://localhost:8080/",
          "height": 224
        },
        "outputId": "951d8904-97b2-4385-c723-cb50106de0ef"
      },
      "source": [
        "data=pd.read_csv('data.csv')\n",
        "data.head()"
      ],
      "execution_count": null,
      "outputs": [
        {
          "output_type": "execute_result",
          "data": {
            "text/html": [
              "<div>\n",
              "<style scoped>\n",
              "    .dataframe tbody tr th:only-of-type {\n",
              "        vertical-align: middle;\n",
              "    }\n",
              "\n",
              "    .dataframe tbody tr th {\n",
              "        vertical-align: top;\n",
              "    }\n",
              "\n",
              "    .dataframe thead th {\n",
              "        text-align: right;\n",
              "    }\n",
              "</style>\n",
              "<table border=\"1\" class=\"dataframe\">\n",
              "  <thead>\n",
              "    <tr style=\"text-align: right;\">\n",
              "      <th></th>\n",
              "      <th>filename</th>\n",
              "      <th>chroma_stft</th>\n",
              "      <th>rmse</th>\n",
              "      <th>spectral_centroid</th>\n",
              "      <th>spectral_bandwidth</th>\n",
              "      <th>rolloff</th>\n",
              "      <th>zero_crossing_rate</th>\n",
              "      <th>mfcc1</th>\n",
              "      <th>mfcc2</th>\n",
              "      <th>mfcc3</th>\n",
              "      <th>mfcc4</th>\n",
              "      <th>mfcc5</th>\n",
              "      <th>mfcc6</th>\n",
              "      <th>mfcc7</th>\n",
              "      <th>mfcc8</th>\n",
              "      <th>mfcc9</th>\n",
              "      <th>mfcc10</th>\n",
              "      <th>mfcc11</th>\n",
              "      <th>mfcc12</th>\n",
              "      <th>mfcc13</th>\n",
              "      <th>mfcc14</th>\n",
              "      <th>mfcc15</th>\n",
              "      <th>mfcc16</th>\n",
              "      <th>mfcc17</th>\n",
              "      <th>mfcc18</th>\n",
              "      <th>mfcc19</th>\n",
              "      <th>mfcc20</th>\n",
              "      <th>label</th>\n",
              "    </tr>\n",
              "  </thead>\n",
              "  <tbody>\n",
              "    <tr>\n",
              "      <th>0</th>\n",
              "      <td>blues.00000.au</td>\n",
              "      <td>0.349943</td>\n",
              "      <td>0.130225</td>\n",
              "      <td>1784.420446</td>\n",
              "      <td>2002.650192</td>\n",
              "      <td>3806.485316</td>\n",
              "      <td>0.083066</td>\n",
              "      <td>-113.596742</td>\n",
              "      <td>121.557302</td>\n",
              "      <td>-19.158825</td>\n",
              "      <td>42.351029</td>\n",
              "      <td>-6.376457</td>\n",
              "      <td>18.618875</td>\n",
              "      <td>-13.697911</td>\n",
              "      <td>15.344630</td>\n",
              "      <td>-12.285266</td>\n",
              "      <td>10.980491</td>\n",
              "      <td>-8.324323</td>\n",
              "      <td>8.810668</td>\n",
              "      <td>-3.667367</td>\n",
              "      <td>5.751690</td>\n",
              "      <td>-5.162761</td>\n",
              "      <td>0.750947</td>\n",
              "      <td>-1.691937</td>\n",
              "      <td>-0.409954</td>\n",
              "      <td>-2.300208</td>\n",
              "      <td>1.219928</td>\n",
              "      <td>blues</td>\n",
              "    </tr>\n",
              "    <tr>\n",
              "      <th>1</th>\n",
              "      <td>blues.00001.au</td>\n",
              "      <td>0.340983</td>\n",
              "      <td>0.095918</td>\n",
              "      <td>1529.835316</td>\n",
              "      <td>2038.617579</td>\n",
              "      <td>3548.820207</td>\n",
              "      <td>0.056044</td>\n",
              "      <td>-207.556796</td>\n",
              "      <td>124.006717</td>\n",
              "      <td>8.930562</td>\n",
              "      <td>35.874684</td>\n",
              "      <td>2.916038</td>\n",
              "      <td>21.523725</td>\n",
              "      <td>-8.554703</td>\n",
              "      <td>23.358672</td>\n",
              "      <td>-10.103616</td>\n",
              "      <td>11.903744</td>\n",
              "      <td>-5.560387</td>\n",
              "      <td>5.376802</td>\n",
              "      <td>-2.239119</td>\n",
              "      <td>4.216963</td>\n",
              "      <td>-6.012273</td>\n",
              "      <td>0.936109</td>\n",
              "      <td>-0.716537</td>\n",
              "      <td>0.293875</td>\n",
              "      <td>-0.287431</td>\n",
              "      <td>0.531573</td>\n",
              "      <td>blues</td>\n",
              "    </tr>\n",
              "    <tr>\n",
              "      <th>2</th>\n",
              "      <td>blues.00002.au</td>\n",
              "      <td>0.363603</td>\n",
              "      <td>0.175573</td>\n",
              "      <td>1552.481958</td>\n",
              "      <td>1747.165985</td>\n",
              "      <td>3040.514948</td>\n",
              "      <td>0.076301</td>\n",
              "      <td>-90.754394</td>\n",
              "      <td>140.459907</td>\n",
              "      <td>-29.109965</td>\n",
              "      <td>31.689014</td>\n",
              "      <td>-13.987036</td>\n",
              "      <td>25.754761</td>\n",
              "      <td>-13.649586</td>\n",
              "      <td>11.629271</td>\n",
              "      <td>-11.780589</td>\n",
              "      <td>9.706442</td>\n",
              "      <td>-13.123111</td>\n",
              "      <td>5.789265</td>\n",
              "      <td>-8.905224</td>\n",
              "      <td>-1.083720</td>\n",
              "      <td>-9.218359</td>\n",
              "      <td>2.455805</td>\n",
              "      <td>-7.726901</td>\n",
              "      <td>-1.815724</td>\n",
              "      <td>-3.433434</td>\n",
              "      <td>-2.226821</td>\n",
              "      <td>blues</td>\n",
              "    </tr>\n",
              "    <tr>\n",
              "      <th>3</th>\n",
              "      <td>blues.00003.au</td>\n",
              "      <td>0.404779</td>\n",
              "      <td>0.141191</td>\n",
              "      <td>1070.119953</td>\n",
              "      <td>1596.333948</td>\n",
              "      <td>2185.028454</td>\n",
              "      <td>0.033309</td>\n",
              "      <td>-199.431144</td>\n",
              "      <td>150.099218</td>\n",
              "      <td>5.647594</td>\n",
              "      <td>26.871927</td>\n",
              "      <td>1.754463</td>\n",
              "      <td>14.238344</td>\n",
              "      <td>-4.830882</td>\n",
              "      <td>9.297965</td>\n",
              "      <td>-0.757741</td>\n",
              "      <td>8.149012</td>\n",
              "      <td>-3.196314</td>\n",
              "      <td>6.087676</td>\n",
              "      <td>-2.476420</td>\n",
              "      <td>-1.073890</td>\n",
              "      <td>-2.874777</td>\n",
              "      <td>0.780976</td>\n",
              "      <td>-3.316932</td>\n",
              "      <td>0.637981</td>\n",
              "      <td>-0.619690</td>\n",
              "      <td>-3.408233</td>\n",
              "      <td>blues</td>\n",
              "    </tr>\n",
              "    <tr>\n",
              "      <th>4</th>\n",
              "      <td>blues.00004.au</td>\n",
              "      <td>0.308590</td>\n",
              "      <td>0.091563</td>\n",
              "      <td>1835.494603</td>\n",
              "      <td>1748.362448</td>\n",
              "      <td>3580.945013</td>\n",
              "      <td>0.101500</td>\n",
              "      <td>-160.266031</td>\n",
              "      <td>126.198800</td>\n",
              "      <td>-35.605448</td>\n",
              "      <td>22.153301</td>\n",
              "      <td>-32.489270</td>\n",
              "      <td>10.864512</td>\n",
              "      <td>-23.357929</td>\n",
              "      <td>0.503117</td>\n",
              "      <td>-11.805831</td>\n",
              "      <td>1.206804</td>\n",
              "      <td>-13.083820</td>\n",
              "      <td>-2.806385</td>\n",
              "      <td>-6.934122</td>\n",
              "      <td>-7.558619</td>\n",
              "      <td>-9.173552</td>\n",
              "      <td>-4.512166</td>\n",
              "      <td>-5.453538</td>\n",
              "      <td>-0.924162</td>\n",
              "      <td>-4.409333</td>\n",
              "      <td>-11.703781</td>\n",
              "      <td>blues</td>\n",
              "    </tr>\n",
              "  </tbody>\n",
              "</table>\n",
              "</div>"
            ],
            "text/plain": [
              "         filename  chroma_stft      rmse  ...    mfcc19     mfcc20  label\n",
              "0  blues.00000.au     0.349943  0.130225  ... -2.300208   1.219928  blues\n",
              "1  blues.00001.au     0.340983  0.095918  ... -0.287431   0.531573  blues\n",
              "2  blues.00002.au     0.363603  0.175573  ... -3.433434  -2.226821  blues\n",
              "3  blues.00003.au     0.404779  0.141191  ... -0.619690  -3.408233  blues\n",
              "4  blues.00004.au     0.308590  0.091563  ... -4.409333 -11.703781  blues\n",
              "\n",
              "[5 rows x 28 columns]"
            ]
          },
          "metadata": {
            "tags": []
          },
          "execution_count": 8
        }
      ]
    },
    {
      "cell_type": "code",
      "metadata": {
        "id": "MdtIeo3zwAhc",
        "colab_type": "code",
        "colab": {
          "base_uri": "https://localhost:8080/",
          "height": 34
        },
        "outputId": "3cf6ca82-1249-4f8e-c17d-115d90bdbfbe"
      },
      "source": [
        "data.shape"
      ],
      "execution_count": null,
      "outputs": [
        {
          "output_type": "execute_result",
          "data": {
            "text/plain": [
              "(1000, 28)"
            ]
          },
          "metadata": {
            "tags": []
          },
          "execution_count": 9
        }
      ]
    },
    {
      "cell_type": "code",
      "metadata": {
        "id": "IJAMoXtkt_pH",
        "colab_type": "code",
        "colab": {}
      },
      "source": [
        "data = data.drop(['filename'],axis=1)"
      ],
      "execution_count": null,
      "outputs": []
    },
    {
      "cell_type": "code",
      "metadata": {
        "id": "uXAzdEIwwMBs",
        "colab_type": "code",
        "colab": {}
      },
      "source": [
        "##creating y variable as an output \n",
        "\n",
        "genre_list = data.iloc[:, -1]\n",
        "encoder = LabelEncoder()\n",
        "y = encoder.fit_transform(genre_list)"
      ],
      "execution_count": null,
      "outputs": []
    },
    {
      "cell_type": "code",
      "metadata": {
        "id": "iEDZ4tKvx5zX",
        "colab_type": "code",
        "colab": {
          "base_uri": "https://localhost:8080/",
          "height": 34
        },
        "outputId": "b430862f-a423-46da-c903-62f643b14e9e"
      },
      "source": [
        "y.shape"
      ],
      "execution_count": null,
      "outputs": [
        {
          "output_type": "execute_result",
          "data": {
            "text/plain": [
              "(1000,)"
            ]
          },
          "metadata": {
            "tags": []
          },
          "execution_count": 10
        }
      ]
    },
    {
      "cell_type": "code",
      "metadata": {
        "id": "0kIc6K5hwS2Z",
        "colab_type": "code",
        "colab": {}
      },
      "source": [
        "scaler = StandardScaler()\n",
        "X = scaler.fit_transform(np.array(data.iloc[:, :-1], dtype = float))"
      ],
      "execution_count": null,
      "outputs": []
    },
    {
      "cell_type": "code",
      "metadata": {
        "id": "OxjLGUKYoGfU",
        "colab_type": "code",
        "colab": {}
      },
      "source": [
        "##pickling the scaler object to be used in anysong.ipynb\n",
        "\n",
        "import pickle\n",
        "with open(r\"scaler.pickle\", \"wb\") as output_file:\n",
        "  pickle.dump(scaler, output_file)"
      ],
      "execution_count": null,
      "outputs": []
    },
    {
      "cell_type": "code",
      "metadata": {
        "id": "90p9R8nUx-za",
        "colab_type": "code",
        "colab": {
          "base_uri": "https://localhost:8080/",
          "height": 34
        },
        "outputId": "04710a13-afef-40dd-f5a5-ce56331b3603"
      },
      "source": [
        "X.shape"
      ],
      "execution_count": null,
      "outputs": [
        {
          "output_type": "execute_result",
          "data": {
            "text/plain": [
              "(1000, 26)"
            ]
          },
          "metadata": {
            "tags": []
          },
          "execution_count": 14
        }
      ]
    },
    {
      "cell_type": "code",
      "metadata": {
        "id": "r2w1S8xxdFzV",
        "colab_type": "code",
        "colab": {
          "base_uri": "https://localhost:8080/",
          "height": 238
        },
        "outputId": "84085789-76eb-4e28-c186-255f78892b7c"
      },
      "source": [
        "X"
      ],
      "execution_count": null,
      "outputs": [
        {
          "output_type": "execute_result",
          "data": {
            "text/plain": [
              "array([[-0.35174834, -0.01072298, -0.58330334, ..., -0.23719158,\n",
              "         0.00761145,  0.60349813],\n",
              "       [-0.46146547, -0.53326615, -0.93906628, ..., -0.05518978,\n",
              "         0.5438236 ,  0.42403528],\n",
              "       [-0.18448375,  0.68001209, -0.90741936, ..., -0.60070707,\n",
              "        -0.29428464, -0.29511278],\n",
              "       ...,\n",
              "       [ 0.65431764, -0.75110651, -0.17418012, ...,  0.76028053,\n",
              "        -2.73474414, -0.26387449],\n",
              "       [-0.19983702, -0.71651358, -1.12235633, ...,  0.2717664 ,\n",
              "        -0.72311185, -0.64936228],\n",
              "       [-0.2507021 , -1.16473892, -0.82782084, ..., -0.12506872,\n",
              "         0.08171799,  0.58748963]])"
            ]
          },
          "metadata": {
            "tags": []
          },
          "execution_count": 14
        }
      ]
    },
    {
      "cell_type": "code",
      "metadata": {
        "id": "rZ6Vm3WCwWfA",
        "colab_type": "code",
        "colab": {}
      },
      "source": [
        "##creating a test and train split 80-20\n",
        "\n",
        "X_train, X_test, y_train, y_test = train_test_split(X, y, test_size=0.2)"
      ],
      "execution_count": null,
      "outputs": []
    },
    {
      "cell_type": "code",
      "metadata": {
        "id": "20bCnrJIwgAb",
        "colab_type": "code",
        "colab": {
          "base_uri": "https://localhost:8080/",
          "height": 120
        },
        "outputId": "0f500415-83ae-4609-95e8-55fa80f62f81"
      },
      "source": [
        "X_train[10]"
      ],
      "execution_count": null,
      "outputs": [
        {
          "output_type": "execute_result",
          "data": {
            "text/plain": [
              "array([-0.25268682,  0.20586734, -0.45149864, -0.07150224, -0.18076424,\n",
              "       -0.76307272,  0.13403738,  0.36388879,  0.31485445,  0.33047797,\n",
              "       -0.16628522,  1.6924497 , -1.25355844,  0.93180651, -0.25745713,\n",
              "        0.90205058, -0.11848772,  0.70364263, -0.35118038,  0.90488229,\n",
              "       -1.18155211, -0.14040636, -1.93635414, -1.3994824 , -0.05014615,\n",
              "       -0.52935688])"
            ]
          },
          "metadata": {
            "tags": []
          },
          "execution_count": 19
        }
      ]
    },
    {
      "cell_type": "markdown",
      "metadata": {
        "id": "9GpqQp5XjEJk",
        "colab_type": "text"
      },
      "source": [
        "##**SEQUENTIAL MODEL**"
      ]
    },
    {
      "cell_type": "code",
      "metadata": {
        "id": "7vMBWCLvsg0s",
        "colab_type": "code",
        "colab": {
          "base_uri": "https://localhost:8080/",
          "height": 71
        },
        "outputId": "71ffd659-d5a0-4703-af53-44d73dc6c2e4"
      },
      "source": [
        "from keras import models\n",
        "from keras import layers\n",
        "\n",
        "model = models.Sequential()\n",
        "model.add(layers.Dense(256, activation='relu', input_shape=(X_train.shape[1],)))\n",
        "\n",
        "model.add(layers.Dense(128, activation='relu'))\n",
        "\n",
        "model.add(layers.Dense(64, activation='relu'))\n",
        "\n",
        "model.add(layers.Dense(10, activation='softmax'))"
      ],
      "execution_count": null,
      "outputs": [
        {
          "output_type": "stream",
          "text": [
            "W0814 07:29:01.894109 140281916925824 module_wrapper.py:137] From /usr/local/lib/python3.6/dist-packages/keras/backend/tensorflow_backend.py:74: The name tf.get_default_graph is deprecated. Please use tf.compat.v1.get_default_graph instead.\n",
            "\n"
          ],
          "name": "stderr"
        }
      ]
    },
    {
      "cell_type": "code",
      "metadata": {
        "id": "JCGfTf2Ds9FJ",
        "colab_type": "code",
        "colab": {
          "base_uri": "https://localhost:8080/",
          "height": 71
        },
        "outputId": "7228ab1e-fc06-4278-ab48-011cea19784c"
      },
      "source": [
        "model.compile(optimizer='adam',\n",
        "              loss='sparse_categorical_crossentropy',\n",
        "              metrics=['accuracy'])"
      ],
      "execution_count": null,
      "outputs": [
        {
          "output_type": "stream",
          "text": [
            "W0814 07:29:05.062322 140281916925824 module_wrapper.py:137] From /usr/local/lib/python3.6/dist-packages/keras/optimizers.py:790: The name tf.train.Optimizer is deprecated. Please use tf.compat.v1.train.Optimizer instead.\n",
            "\n"
          ],
          "name": "stderr"
        }
      ]
    },
    {
      "cell_type": "code",
      "metadata": {
        "id": "zA4AsHAHtBhR",
        "colab_type": "code",
        "colab": {
          "base_uri": "https://localhost:8080/",
          "height": 768
        },
        "outputId": "678cc271-d854-4d9e-ff67-f534947c4547"
      },
      "source": [
        "history = model.fit(X_train,\n",
        "                    y_train,\n",
        "                    epochs=20,\n",
        "                    batch_size=128)"
      ],
      "execution_count": null,
      "outputs": [
        {
          "output_type": "stream",
          "text": [
            "W0814 07:29:07.026734 140281916925824 deprecation.py:323] From /usr/local/lib/python3.6/dist-packages/tensorflow_core/python/ops/math_grad.py:1423: where (from tensorflow.python.ops.array_ops) is deprecated and will be removed in a future version.\n",
            "Instructions for updating:\n",
            "Use tf.where in 2.0, which has the same broadcast rule as np.where\n"
          ],
          "name": "stderr"
        },
        {
          "output_type": "stream",
          "text": [
            "Epoch 1/20\n",
            "800/800 [==============================] - 0s 342us/step - loss: 2.2221 - acc: 0.1975\n",
            "Epoch 2/20\n",
            "800/800 [==============================] - 0s 43us/step - loss: 1.8968 - acc: 0.3550\n",
            "Epoch 3/20\n",
            "800/800 [==============================] - 0s 40us/step - loss: 1.6461 - acc: 0.3962\n",
            "Epoch 4/20\n",
            "800/800 [==============================] - 0s 40us/step - loss: 1.4524 - acc: 0.4637\n",
            "Epoch 5/20\n",
            "800/800 [==============================] - 0s 38us/step - loss: 1.3027 - acc: 0.5475\n",
            "Epoch 6/20\n",
            "800/800 [==============================] - 0s 39us/step - loss: 1.2074 - acc: 0.5813\n",
            "Epoch 7/20\n",
            "800/800 [==============================] - 0s 42us/step - loss: 1.1132 - acc: 0.6313\n",
            "Epoch 8/20\n",
            "800/800 [==============================] - 0s 38us/step - loss: 1.0359 - acc: 0.6638\n",
            "Epoch 9/20\n",
            "800/800 [==============================] - 0s 43us/step - loss: 0.9644 - acc: 0.7025\n",
            "Epoch 10/20\n",
            "800/800 [==============================] - 0s 45us/step - loss: 0.9209 - acc: 0.6938\n",
            "Epoch 11/20\n",
            "800/800 [==============================] - 0s 39us/step - loss: 0.8721 - acc: 0.7137\n",
            "Epoch 12/20\n",
            "800/800 [==============================] - 0s 40us/step - loss: 0.8264 - acc: 0.7150\n",
            "Epoch 13/20\n",
            "800/800 [==============================] - 0s 40us/step - loss: 0.7911 - acc: 0.7300\n",
            "Epoch 14/20\n",
            "800/800 [==============================] - 0s 42us/step - loss: 0.7445 - acc: 0.7563\n",
            "Epoch 15/20\n",
            "800/800 [==============================] - 0s 43us/step - loss: 0.7065 - acc: 0.7787\n",
            "Epoch 16/20\n",
            "800/800 [==============================] - 0s 49us/step - loss: 0.6720 - acc: 0.7950\n",
            "Epoch 17/20\n",
            "800/800 [==============================] - 0s 48us/step - loss: 0.6436 - acc: 0.7825\n",
            "Epoch 18/20\n",
            "800/800 [==============================] - 0s 40us/step - loss: 0.6121 - acc: 0.8113\n",
            "Epoch 19/20\n",
            "800/800 [==============================] - 0s 39us/step - loss: 0.5868 - acc: 0.8212\n",
            "Epoch 20/20\n",
            "800/800 [==============================] - 0s 41us/step - loss: 0.5605 - acc: 0.8137\n"
          ],
          "name": "stdout"
        }
      ]
    },
    {
      "cell_type": "code",
      "metadata": {
        "id": "AjyrOPWZtGkY",
        "colab_type": "code",
        "colab": {
          "base_uri": "https://localhost:8080/",
          "height": 34
        },
        "outputId": "5023c860-b391-4400-8769-83827c3b1f20"
      },
      "source": [
        "test_loss, test_acc = model.evaluate(X_test,y_test)"
      ],
      "execution_count": null,
      "outputs": [
        {
          "output_type": "stream",
          "text": [
            "200/200 [==============================] - 0s 239us/step\n"
          ],
          "name": "stdout"
        }
      ]
    },
    {
      "cell_type": "code",
      "metadata": {
        "id": "5z7J37W-tMYI",
        "colab_type": "code",
        "colab": {
          "base_uri": "https://localhost:8080/",
          "height": 34
        },
        "outputId": "c3e91c18-4937-493c-97d6-646726e736c1"
      },
      "source": [
        "print('test_acc: ',test_acc)"
      ],
      "execution_count": null,
      "outputs": [
        {
          "output_type": "stream",
          "text": [
            "test_acc:  0.635\n"
          ],
          "name": "stdout"
        }
      ]
    },
    {
      "cell_type": "code",
      "metadata": {
        "id": "J_ORZ4nYtObA",
        "colab_type": "code",
        "colab": {}
      },
      "source": [
        "x_val = X_train[:200]\n",
        "partial_x_train = X_train[200:]\n",
        "\n",
        "y_val = y_train[:200]\n",
        "partial_y_train = y_train[200:]"
      ],
      "execution_count": null,
      "outputs": []
    },
    {
      "cell_type": "code",
      "metadata": {
        "id": "tGFH--NrtaPA",
        "colab_type": "code",
        "colab": {
          "base_uri": "https://localhost:8080/",
          "height": 1000
        },
        "outputId": "aad1b7b5-e01a-490b-de45-b3008bfd613a"
      },
      "source": [
        "model = models.Sequential()\n",
        "model.add(layers.Dense(512, activation='relu', input_shape=(X_train.shape[1],)))\n",
        "model.add(layers.Dense(256, activation='relu'))\n",
        "model.add(layers.Dense(128, activation='relu'))\n",
        "model.add(layers.Dense(64, activation='relu'))\n",
        "model.add(layers.Dense(10, activation='softmax'))\n",
        "\n",
        "model.compile(optimizer='adam',\n",
        "              loss='sparse_categorical_crossentropy',\n",
        "              metrics=['accuracy'])\n",
        "\n",
        "model.fit(partial_x_train,\n",
        "          partial_y_train,\n",
        "          epochs=30,\n",
        "          batch_size=512,\n",
        "          validation_data=(x_val, y_val))\n",
        "results, final_accuracy = model.evaluate(X_test, y_test)"
      ],
      "execution_count": null,
      "outputs": [
        {
          "output_type": "stream",
          "text": [
            "Train on 600 samples, validate on 200 samples\n",
            "Epoch 1/30\n",
            "600/600 [==============================] - 0s 699us/step - loss: 2.3192 - acc: 0.1017 - val_loss: 2.2028 - val_acc: 0.1750\n",
            "Epoch 2/30\n",
            "600/600 [==============================] - 0s 69us/step - loss: 2.1527 - acc: 0.2617 - val_loss: 2.0898 - val_acc: 0.2450\n",
            "Epoch 3/30\n",
            "600/600 [==============================] - 0s 68us/step - loss: 2.0100 - acc: 0.3667 - val_loss: 1.9825 - val_acc: 0.2550\n",
            "Epoch 4/30\n",
            "600/600 [==============================] - 0s 65us/step - loss: 1.8642 - acc: 0.3883 - val_loss: 1.8845 - val_acc: 0.2750\n",
            "Epoch 5/30\n",
            "600/600 [==============================] - 0s 70us/step - loss: 1.7261 - acc: 0.4033 - val_loss: 1.7885 - val_acc: 0.3500\n",
            "Epoch 6/30\n",
            "600/600 [==============================] - 0s 67us/step - loss: 1.5781 - acc: 0.4567 - val_loss: 1.7084 - val_acc: 0.3600\n",
            "Epoch 7/30\n",
            "600/600 [==============================] - 0s 66us/step - loss: 1.4463 - acc: 0.5283 - val_loss: 1.6690 - val_acc: 0.3850\n",
            "Epoch 8/30\n",
            "600/600 [==============================] - 0s 62us/step - loss: 1.3478 - acc: 0.5583 - val_loss: 1.6279 - val_acc: 0.4400\n",
            "Epoch 9/30\n",
            "600/600 [==============================] - 0s 62us/step - loss: 1.2395 - acc: 0.5983 - val_loss: 1.6095 - val_acc: 0.4000\n",
            "Epoch 10/30\n",
            "600/600 [==============================] - 0s 65us/step - loss: 1.1787 - acc: 0.5917 - val_loss: 1.6129 - val_acc: 0.3900\n",
            "Epoch 11/30\n",
            "600/600 [==============================] - 0s 74us/step - loss: 1.1329 - acc: 0.5967 - val_loss: 1.5419 - val_acc: 0.4900\n",
            "Epoch 12/30\n",
            "600/600 [==============================] - 0s 62us/step - loss: 1.0418 - acc: 0.6650 - val_loss: 1.5250 - val_acc: 0.4900\n",
            "Epoch 13/30\n",
            "600/600 [==============================] - 0s 68us/step - loss: 1.0123 - acc: 0.6517 - val_loss: 1.4656 - val_acc: 0.4900\n",
            "Epoch 14/30\n",
            "600/600 [==============================] - 0s 62us/step - loss: 0.9416 - acc: 0.6867 - val_loss: 1.4125 - val_acc: 0.5050\n",
            "Epoch 15/30\n",
            "600/600 [==============================] - 0s 62us/step - loss: 0.8845 - acc: 0.7133 - val_loss: 1.4099 - val_acc: 0.5100\n",
            "Epoch 16/30\n",
            "600/600 [==============================] - 0s 65us/step - loss: 0.8607 - acc: 0.7083 - val_loss: 1.3880 - val_acc: 0.5500\n",
            "Epoch 17/30\n",
            "600/600 [==============================] - 0s 73us/step - loss: 0.8051 - acc: 0.7350 - val_loss: 1.3898 - val_acc: 0.5550\n",
            "Epoch 18/30\n",
            "600/600 [==============================] - 0s 59us/step - loss: 0.7692 - acc: 0.7517 - val_loss: 1.3886 - val_acc: 0.5200\n",
            "Epoch 19/30\n",
            "600/600 [==============================] - 0s 70us/step - loss: 0.7465 - acc: 0.7567 - val_loss: 1.3470 - val_acc: 0.5700\n",
            "Epoch 20/30\n",
            "600/600 [==============================] - 0s 62us/step - loss: 0.6983 - acc: 0.7700 - val_loss: 1.3288 - val_acc: 0.5500\n",
            "Epoch 21/30\n",
            "600/600 [==============================] - 0s 62us/step - loss: 0.6850 - acc: 0.7650 - val_loss: 1.3234 - val_acc: 0.5450\n",
            "Epoch 22/30\n",
            "600/600 [==============================] - 0s 59us/step - loss: 0.6601 - acc: 0.7800 - val_loss: 1.3263 - val_acc: 0.5700\n",
            "Epoch 23/30\n",
            "600/600 [==============================] - 0s 67us/step - loss: 0.6262 - acc: 0.7967 - val_loss: 1.3336 - val_acc: 0.5500\n",
            "Epoch 24/30\n",
            "600/600 [==============================] - 0s 66us/step - loss: 0.6061 - acc: 0.8050 - val_loss: 1.2844 - val_acc: 0.5650\n",
            "Epoch 25/30\n",
            "600/600 [==============================] - 0s 67us/step - loss: 0.5767 - acc: 0.8100 - val_loss: 1.2749 - val_acc: 0.5500\n",
            "Epoch 26/30\n",
            "600/600 [==============================] - 0s 63us/step - loss: 0.5651 - acc: 0.8083 - val_loss: 1.2714 - val_acc: 0.5550\n",
            "Epoch 27/30\n",
            "600/600 [==============================] - 0s 65us/step - loss: 0.5293 - acc: 0.8217 - val_loss: 1.3022 - val_acc: 0.5400\n",
            "Epoch 28/30\n",
            "600/600 [==============================] - 0s 66us/step - loss: 0.5109 - acc: 0.8317 - val_loss: 1.3644 - val_acc: 0.5550\n",
            "Epoch 29/30\n",
            "600/600 [==============================] - 0s 67us/step - loss: 0.5063 - acc: 0.8283 - val_loss: 1.3170 - val_acc: 0.5750\n",
            "Epoch 30/30\n",
            "600/600 [==============================] - 0s 65us/step - loss: 0.4708 - acc: 0.8417 - val_loss: 1.2829 - val_acc: 0.5900\n",
            "200/200 [==============================] - 0s 78us/step\n"
          ],
          "name": "stdout"
        }
      ]
    },
    {
      "cell_type": "code",
      "metadata": {
        "id": "dKK9oZgXtlA4",
        "colab_type": "code",
        "colab": {
          "base_uri": "https://localhost:8080/",
          "height": 34
        },
        "outputId": "0ca1e318-4bc9-47b8-9f23-2dd5efa0dc5c"
      },
      "source": [
        "results"
      ],
      "execution_count": null,
      "outputs": [
        {
          "output_type": "execute_result",
          "data": {
            "text/plain": [
              "1.1344644927978516"
            ]
          },
          "metadata": {
            "tags": []
          },
          "execution_count": 23
        }
      ]
    },
    {
      "cell_type": "code",
      "metadata": {
        "id": "ghQH4MILCCwD",
        "colab_type": "code",
        "colab": {
          "base_uri": "https://localhost:8080/",
          "height": 34
        },
        "outputId": "dbac31f5-ac45-41bb-c4fe-f6d2e5ee160a"
      },
      "source": [
        "final_accuracy"
      ],
      "execution_count": null,
      "outputs": [
        {
          "output_type": "execute_result",
          "data": {
            "text/plain": [
              "0.62"
            ]
          },
          "metadata": {
            "tags": []
          },
          "execution_count": 24
        }
      ]
    },
    {
      "cell_type": "code",
      "metadata": {
        "id": "pFdm96iUxKI9",
        "colab_type": "code",
        "colab": {}
      },
      "source": [
        "\n",
        "predictions = model.predict_proba(X_test)"
      ],
      "execution_count": null,
      "outputs": []
    },
    {
      "cell_type": "code",
      "metadata": {
        "id": "HYFkQw9ExLz3",
        "colab_type": "code",
        "colab": {
          "base_uri": "https://localhost:8080/",
          "height": 238
        },
        "outputId": "9eef82e7-06cb-4498-b26a-6740a979a9c9"
      },
      "source": [
        "##testing results\n",
        "predictions"
      ],
      "execution_count": null,
      "outputs": [
        {
          "output_type": "execute_result",
          "data": {
            "text/plain": [
              "array([[2.2052022e-02, 1.9365858e-05, 4.8412569e-03, ..., 9.5206611e-05,\n",
              "        1.3424294e-02, 1.3988456e-02],\n",
              "       [7.9929050e-05, 9.8646331e-01, 1.8581332e-03, ..., 1.2649713e-03,\n",
              "        4.6634213e-03, 1.0940355e-03],\n",
              "       [6.7730318e-05, 6.5421823e-06, 2.4778975e-04, ..., 1.2087699e-03,\n",
              "        1.9879304e-03, 7.3835459e-03],\n",
              "       ...,\n",
              "       [5.8634585e-04, 3.4400829e-04, 7.5144127e-02, ..., 6.0119599e-02,\n",
              "        1.4644089e-01, 7.3174648e-02],\n",
              "       [5.6374422e-04, 6.7272787e-03, 1.4532682e-02, ..., 5.4786773e-04,\n",
              "        4.3406291e-03, 9.0519585e-02],\n",
              "       [2.6209694e-03, 2.4114423e-05, 2.8983572e-01, ..., 3.8025039e-05,\n",
              "        1.0085267e-02, 6.8461990e-01]], dtype=float32)"
            ]
          },
          "metadata": {
            "tags": []
          },
          "execution_count": 26
        }
      ]
    },
    {
      "cell_type": "code",
      "metadata": {
        "id": "NbUYaWxgxZww",
        "colab_type": "code",
        "colab": {
          "base_uri": "https://localhost:8080/",
          "height": 34
        },
        "outputId": "0507a9d7-3e78-4f3a-89b6-9729523286ba"
      },
      "source": [
        "predictions.shape"
      ],
      "execution_count": null,
      "outputs": [
        {
          "output_type": "execute_result",
          "data": {
            "text/plain": [
              "(200, 10)"
            ]
          },
          "metadata": {
            "tags": []
          },
          "execution_count": 27
        }
      ]
    },
    {
      "cell_type": "code",
      "metadata": {
        "id": "2nsZqBZcxbMI",
        "colab_type": "code",
        "colab": {}
      },
      "source": [
        "!pip install h5py pyyaml\n",
        "!pip install tf_nightly"
      ],
      "execution_count": null,
      "outputs": []
    },
    {
      "cell_type": "code",
      "metadata": {
        "id": "IcuPduQL3EtN",
        "colab_type": "code",
        "colab": {}
      },
      "source": [
        "\n",
        "model.save('my_model.h5')"
      ],
      "execution_count": null,
      "outputs": []
    }
  ]
}