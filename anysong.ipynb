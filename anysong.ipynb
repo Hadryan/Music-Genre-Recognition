{
  "nbformat": 4,
  "nbformat_minor": 0,
  "metadata": {
    "colab": {
      "name": "anysong.ipynb",
      "provenance": [],
      "collapsed_sections": [],
      "include_colab_link": true
    },
    "kernelspec": {
      "name": "python3",
      "display_name": "Python 3"
    },
    "accelerator": "TPU"
  },
  "cells": [
    {
      "cell_type": "markdown",
      "metadata": {
        "id": "view-in-github",
        "colab_type": "text"
      },
      "source": [
        "<a href=\"https://colab.research.google.com/github/SahanaSwamy/Music-Genre-Recognition/blob/master/anysong.ipynb\" target=\"_parent\"><img src=\"https://colab.research.google.com/assets/colab-badge.svg\" alt=\"Open In Colab\"/></a>"
      ]
    },
    {
      "cell_type": "markdown",
      "metadata": {
        "id": "ZBuyl8vE_7I8",
        "colab_type": "text"
      },
      "source": [
        "##**This notebook is used to enter a song for the genre recognition model**"
      ]
    },
    {
      "cell_type": "markdown",
      "metadata": {
        "id": "M5FmJ2a-AESo",
        "colab_type": "text"
      },
      "source": [
        "##**IMPORTING LIBRARIES**"
      ]
    },
    {
      "cell_type": "code",
      "metadata": {
        "id": "kxWQbGfx1VeD",
        "colab_type": "code",
        "colab": {
          "base_uri": "https://localhost:8080/",
          "height": 34
        },
        "outputId": "a10b40ec-7411-494c-f11c-0217b243f6ce"
      },
      "source": [
        "# feature extractoring and preprocessing data\n",
        "import librosa\n",
        "import pandas as pd\n",
        "import numpy as np\n",
        "import matplotlib.pyplot as plt\n",
        "%matplotlib inline\n",
        "import os\n",
        "from PIL import Image\n",
        "import pathlib\n",
        "import csv\n",
        "# Preprocessing\n",
        "from sklearn.model_selection import train_test_split\n",
        "from sklearn.preprocessing import LabelEncoder, StandardScaler\n",
        "\n",
        "import keras\n",
        "\n",
        "import warnings\n",
        "warnings.filterwarnings('ignore')"
      ],
      "execution_count": null,
      "outputs": [
        {
          "output_type": "stream",
          "text": [
            "Using TensorFlow backend.\n"
          ],
          "name": "stderr"
        }
      ]
    },
    {
      "cell_type": "code",
      "metadata": {
        "id": "8w7r5YxJpExf",
        "colab_type": "code",
        "colab": {
          "base_uri": "https://localhost:8080/",
          "height": 717
        },
        "outputId": "5f5f1b93-9233-47a9-d646-5a603d9773f3"
      },
      "source": [
        "!pip install h5py pyyaml\n",
        "!pip install tf_nightly"
      ],
      "execution_count": null,
      "outputs": [
        {
          "output_type": "stream",
          "text": [
            "Requirement already satisfied: h5py in /usr/local/lib/python3.6/dist-packages (2.8.0)\n",
            "Requirement already satisfied: pyyaml in /usr/local/lib/python3.6/dist-packages (3.13)\n",
            "Requirement already satisfied: six in /usr/local/lib/python3.6/dist-packages (from h5py) (1.12.0)\n",
            "Requirement already satisfied: numpy>=1.7 in /usr/local/lib/python3.6/dist-packages (from h5py) (1.16.4)\n",
            "Collecting tf_nightly\n",
            "\u001b[?25l  Downloading https://files.pythonhosted.org/packages/82/9e/c98d8d02a696fa836c622d557ca74d7d2491bf5012b1473b06e9c89b5f34/tf_nightly-1.15.0.dev20190813-cp36-cp36m-manylinux2010_x86_64.whl (110.2MB)\n",
            "\u001b[K     |████████████████████████████████| 110.2MB 126kB/s \n",
            "\u001b[?25hRequirement already satisfied: six>=1.10.0 in /usr/local/lib/python3.6/dist-packages (from tf_nightly) (1.12.0)\n",
            "Collecting tf-estimator-nightly (from tf_nightly)\n",
            "\u001b[?25l  Downloading https://files.pythonhosted.org/packages/6a/86/8f4cc3df206cb3341af079118c815d61ff66c8ae08067505810f565cd1ad/tf_estimator_nightly-1.14.0.dev2019081301-py2.py3-none-any.whl (502kB)\n",
            "\u001b[K     |████████████████████████████████| 512kB 39.4MB/s \n",
            "\u001b[?25hRequirement already satisfied: wrapt>=1.11.1 in /usr/local/lib/python3.6/dist-packages (from tf_nightly) (1.11.2)\n",
            "Requirement already satisfied: google-pasta>=0.1.6 in /usr/local/lib/python3.6/dist-packages (from tf_nightly) (0.1.7)\n",
            "Requirement already satisfied: astor>=0.6.0 in /usr/local/lib/python3.6/dist-packages (from tf_nightly) (0.8.0)\n",
            "Requirement already satisfied: termcolor>=1.1.0 in /usr/local/lib/python3.6/dist-packages (from tf_nightly) (1.1.0)\n",
            "Requirement already satisfied: gast>=0.2.0 in /usr/local/lib/python3.6/dist-packages (from tf_nightly) (0.2.2)\n",
            "Requirement already satisfied: keras-applications>=1.0.8 in /usr/local/lib/python3.6/dist-packages (from tf_nightly) (1.0.8)\n",
            "Requirement already satisfied: keras-preprocessing>=1.0.5 in /usr/local/lib/python3.6/dist-packages (from tf_nightly) (1.1.0)\n",
            "Requirement already satisfied: numpy<2.0,>=1.16.0 in /usr/local/lib/python3.6/dist-packages (from tf_nightly) (1.16.4)\n",
            "Requirement already satisfied: absl-py>=0.7.0 in /usr/local/lib/python3.6/dist-packages (from tf_nightly) (0.7.1)\n",
            "Collecting tb-nightly<1.16.0a0,>=1.15.0a0 (from tf_nightly)\n",
            "\u001b[?25l  Downloading https://files.pythonhosted.org/packages/34/ed/5afa0a1821257fc6dd480cea1d2a3f9d020ea474397221c837e50bb46331/tb_nightly-1.15.0a20190813-py3-none-any.whl (4.1MB)\n",
            "\u001b[K     |████████████████████████████████| 4.1MB 29.4MB/s \n",
            "\u001b[?25hRequirement already satisfied: wheel>=0.26 in /usr/local/lib/python3.6/dist-packages (from tf_nightly) (0.33.4)\n",
            "Requirement already satisfied: protobuf>=3.6.1 in /usr/local/lib/python3.6/dist-packages (from tf_nightly) (3.7.1)\n",
            "Requirement already satisfied: grpcio>=1.8.6 in /usr/local/lib/python3.6/dist-packages (from tf_nightly) (1.15.0)\n",
            "Collecting opt-einsum>=2.3.2 (from tf_nightly)\n",
            "\u001b[?25l  Downloading https://files.pythonhosted.org/packages/f6/d6/44792ec668bcda7d91913c75237314e688f70415ab2acd7172c845f0b24f/opt_einsum-2.3.2.tar.gz (59kB)\n",
            "\u001b[K     |████████████████████████████████| 61kB 18.6MB/s \n",
            "\u001b[?25hRequirement already satisfied: h5py in /usr/local/lib/python3.6/dist-packages (from keras-applications>=1.0.8->tf_nightly) (2.8.0)\n",
            "Requirement already satisfied: werkzeug>=0.11.15 in /usr/local/lib/python3.6/dist-packages (from tb-nightly<1.16.0a0,>=1.15.0a0->tf_nightly) (0.15.5)\n",
            "Requirement already satisfied: setuptools>=41.0.0 in /usr/local/lib/python3.6/dist-packages (from tb-nightly<1.16.0a0,>=1.15.0a0->tf_nightly) (41.0.1)\n",
            "Requirement already satisfied: markdown>=2.6.8 in /usr/local/lib/python3.6/dist-packages (from tb-nightly<1.16.0a0,>=1.15.0a0->tf_nightly) (3.1.1)\n",
            "Building wheels for collected packages: opt-einsum\n",
            "  Building wheel for opt-einsum (setup.py) ... \u001b[?25l\u001b[?25hdone\n",
            "  Created wheel for opt-einsum: filename=opt_einsum-2.3.2-cp36-none-any.whl size=49882 sha256=a6bc02cd2bc6e602de55d094c74b341e0b81c69afdc8e5375bf905771abacd3a\n",
            "  Stored in directory: /root/.cache/pip/wheels/51/3e/a3/b351fae0cbf15373c2136a54a70f43fea5fe91d8168a5faaa4\n",
            "Successfully built opt-einsum\n",
            "Installing collected packages: tf-estimator-nightly, tb-nightly, opt-einsum, tf-nightly\n",
            "Successfully installed opt-einsum-2.3.2 tb-nightly-1.15.0a20190813 tf-estimator-nightly-1.14.0.dev2019081301 tf-nightly-1.15.0.dev20190813\n"
          ],
          "name": "stdout"
        }
      ]
    },
    {
      "cell_type": "code",
      "metadata": {
        "id": "4zw50oyM3Nna",
        "colab_type": "code",
        "colab": {}
      },
      "source": [
        "#Keras\n",
        "import keras\n",
        "\n",
        "import warnings\n",
        "warnings.filterwarnings('ignore')"
      ],
      "execution_count": null,
      "outputs": []
    },
    {
      "cell_type": "code",
      "metadata": {
        "id": "pb5sYzw83Yqe",
        "colab_type": "code",
        "colab": {
          "base_uri": "https://localhost:8080/",
          "height": 34
        },
        "outputId": "2a3776b2-6e1f-4290-a6cc-d1907e6f4e96"
      },
      "source": [
        "!ls\n"
      ],
      "execution_count": null,
      "outputs": [
        {
          "output_type": "stream",
          "text": [
            "sample_data\n"
          ],
          "name": "stdout"
        }
      ]
    },
    {
      "cell_type": "code",
      "metadata": {
        "id": "74Wo3uW43bHd",
        "colab_type": "code",
        "colab": {
          "base_uri": "https://localhost:8080/",
          "height": 138
        },
        "outputId": "592c69d4-3f92-4c5a-e275-1cdf3d6cc8aa"
      },
      "source": [
        "from google.colab import drive\n",
        "drive.mount('/gdrive')\n",
        "%cd /gdrive"
      ],
      "execution_count": null,
      "outputs": [
        {
          "output_type": "stream",
          "text": [
            "Go to this URL in a browser: https://accounts.google.com/o/oauth2/auth?client_id=947318989803-6bn6qk8qdgf4n4g3pfee6491hc0brc4i.apps.googleusercontent.com&redirect_uri=urn%3Aietf%3Awg%3Aoauth%3A2.0%3Aoob&scope=email%20https%3A%2F%2Fwww.googleapis.com%2Fauth%2Fdocs.test%20https%3A%2F%2Fwww.googleapis.com%2Fauth%2Fdrive%20https%3A%2F%2Fwww.googleapis.com%2Fauth%2Fdrive.photos.readonly%20https%3A%2F%2Fwww.googleapis.com%2Fauth%2Fpeopleapi.readonly&response_type=code\n",
            "\n",
            "Enter your authorization code:\n",
            "··········\n",
            "Mounted at /gdrive\n",
            "/gdrive\n"
          ],
          "name": "stdout"
        }
      ]
    },
    {
      "cell_type": "code",
      "metadata": {
        "id": "oVg2mGWz3sgt",
        "colab_type": "code",
        "colab": {
          "base_uri": "https://localhost:8080/",
          "height": 34
        },
        "outputId": "962271ab-a7ec-4714-c0c9-a8f3fc1f20e7"
      },
      "source": [
        "%cd /gdrive/My\\ Drive/genres"
      ],
      "execution_count": null,
      "outputs": [
        {
          "output_type": "stream",
          "text": [
            "/gdrive/My Drive/genres\n"
          ],
          "name": "stdout"
        }
      ]
    },
    {
      "cell_type": "code",
      "metadata": {
        "id": "vdUqnLHT30Ws",
        "colab_type": "code",
        "colab": {
          "base_uri": "https://localhost:8080/",
          "height": 151
        },
        "outputId": "e3820084-2da7-4709-b91c-68595708af05"
      },
      "source": [
        "!ls"
      ],
      "execution_count": null,
      "outputs": [
        {
          "output_type": "stream",
          "text": [
            " anysong.ipynb\t  hiphop\t newdata.csv\t    scaler.pickle\n",
            " blues\t\t  img_data\t'newsong (1).mp3'   X1.pickle\n",
            " classical\t  jazz\t\t newsong.mp3\t    X2.pickle\n",
            " classical.mp3\t  metal\t\t pop\t\t    X.pickle\n",
            " country\t  my_model.h5\t reggae\t\t    y1.pickle\n",
            " data.csv\t  newdata1.csv\t rock\t\t    y2.pickle\n",
            " disco\t\t  newdata2.csv\t rough1.ipynb\n",
            " FinalMus.model   newdata3.csv\t scaler\n"
          ],
          "name": "stdout"
        }
      ]
    },
    {
      "cell_type": "code",
      "metadata": {
        "id": "0Ng-7YWW34Od",
        "colab_type": "code",
        "colab": {
          "base_uri": "https://localhost:8080/",
          "height": 34
        },
        "outputId": "b5b52721-508e-4f20-82ee-fae0d5f907e6"
      },
      "source": [
        "##creating a spectogram for the one input song- passed as an mp3 file\n",
        "cmap = plt.get_cmap('inferno')\n",
        "import time\n",
        "plt.figure(figsize=(10,10))\n",
        "songname=f'/gdrive/My Drive/genres/classical.mp3'\n",
        "y, sr = librosa.load(songname, mono=True, duration=5)\n",
        "plt.specgram(y, NFFT=2048, Fs=2, Fc=0, noverlap=128, cmap=cmap, sides='default', mode='default', scale='dB');\n",
        "plt.axis('off');\n",
        "time.sleep(1)\n",
        "plt.savefig(f'img_data/example2')\n",
        "plt.clf()"
      ],
      "execution_count": null,
      "outputs": [
        {
          "output_type": "display_data",
          "data": {
            "text/plain": [
              "<Figure size 720x720 with 0 Axes>"
            ]
          },
          "metadata": {
            "tags": []
          }
        }
      ]
    },
    {
      "cell_type": "code",
      "metadata": {
        "colab_type": "code",
        "id": "T2UcaF7qAmia",
        "colab": {}
      },
      "source": [
        "header = 'filename chroma_stft rmse spectral_centroid spectral_bandwidth rolloff zero_crossing_rate'\n",
        "for i in range(1, 21):\n",
        "    header += f' mfcc{i}'\n",
        "\n",
        "header = header.split()"
      ],
      "execution_count": null,
      "outputs": []
    },
    {
      "cell_type": "markdown",
      "metadata": {
        "id": "QQFwr7kJAnWe",
        "colab_type": "text"
      },
      "source": [
        "## **CREATING A CSV**"
      ]
    },
    {
      "cell_type": "code",
      "metadata": {
        "id": "iY74zsfx4Ke8",
        "colab_type": "code",
        "colab": {}
      },
      "source": [
        "file = open('newdata3.csv', 'w', newline='')\n",
        "with file:\n",
        "    writer = csv.writer(file)\n",
        "    writer.writerow(header)\n",
        "y, sr = librosa.load(songname, mono=True, duration=30)\n",
        "chroma_stft = librosa.feature.chroma_stft(y=y, sr=sr)\n",
        "# print(chroma_stft)\n",
        "rmse = librosa.feature.rmse(y=y)\n",
        "spec_cent = librosa.feature.spectral_centroid(y=y, sr=sr)\n",
        "spec_bw = librosa.feature.spectral_bandwidth(y=y, sr=sr)\n",
        "rolloff = librosa.feature.spectral_rolloff(y=y, sr=sr)\n",
        "zcr = librosa.feature.zero_crossing_rate(y)\n",
        "mfcc = librosa.feature.mfcc(y=y, sr=sr)\n",
        "songname=f'new'\n",
        "to_append = f'{songname} {np.mean(chroma_stft)} {np.mean(rmse)} {np.mean(spec_cent)} {np.mean(spec_bw)} {np.mean(rolloff)} {np.mean(zcr)}'    \n",
        "for e in mfcc:\n",
        "    to_append += f' {np.mean(e)}'\n",
        "file = open('newdata3.csv', 'a', newline='')\n",
        "with file:\n",
        "  writer = csv.writer(file)\n",
        "  writer.writerow(to_append.split())\n",
        "            "
      ],
      "execution_count": null,
      "outputs": []
    },
    {
      "cell_type": "code",
      "metadata": {
        "id": "D4bCX4Jo4QN9",
        "colab_type": "code",
        "colab": {
          "base_uri": "https://localhost:8080/",
          "height": 97
        },
        "outputId": "35f94ad9-9727-4d8a-dc53-054acde2a0d7"
      },
      "source": [
        "data=pd.read_csv('newdata3.csv')\n",
        "data.head()"
      ],
      "execution_count": null,
      "outputs": [
        {
          "output_type": "execute_result",
          "data": {
            "text/html": [
              "<div>\n",
              "<style scoped>\n",
              "    .dataframe tbody tr th:only-of-type {\n",
              "        vertical-align: middle;\n",
              "    }\n",
              "\n",
              "    .dataframe tbody tr th {\n",
              "        vertical-align: top;\n",
              "    }\n",
              "\n",
              "    .dataframe thead th {\n",
              "        text-align: right;\n",
              "    }\n",
              "</style>\n",
              "<table border=\"1\" class=\"dataframe\">\n",
              "  <thead>\n",
              "    <tr style=\"text-align: right;\">\n",
              "      <th></th>\n",
              "      <th>filename</th>\n",
              "      <th>chroma_stft</th>\n",
              "      <th>rmse</th>\n",
              "      <th>spectral_centroid</th>\n",
              "      <th>spectral_bandwidth</th>\n",
              "      <th>rolloff</th>\n",
              "      <th>zero_crossing_rate</th>\n",
              "      <th>mfcc1</th>\n",
              "      <th>mfcc2</th>\n",
              "      <th>mfcc3</th>\n",
              "      <th>mfcc4</th>\n",
              "      <th>mfcc5</th>\n",
              "      <th>mfcc6</th>\n",
              "      <th>mfcc7</th>\n",
              "      <th>mfcc8</th>\n",
              "      <th>mfcc9</th>\n",
              "      <th>mfcc10</th>\n",
              "      <th>mfcc11</th>\n",
              "      <th>mfcc12</th>\n",
              "      <th>mfcc13</th>\n",
              "      <th>mfcc14</th>\n",
              "      <th>mfcc15</th>\n",
              "      <th>mfcc16</th>\n",
              "      <th>mfcc17</th>\n",
              "      <th>mfcc18</th>\n",
              "      <th>mfcc19</th>\n",
              "      <th>mfcc20</th>\n",
              "    </tr>\n",
              "  </thead>\n",
              "  <tbody>\n",
              "    <tr>\n",
              "      <th>0</th>\n",
              "      <td>new</td>\n",
              "      <td>0.246328</td>\n",
              "      <td>0.112484</td>\n",
              "      <td>558.318358</td>\n",
              "      <td>581.209446</td>\n",
              "      <td>891.477943</td>\n",
              "      <td>0.037158</td>\n",
              "      <td>-298.551732</td>\n",
              "      <td>196.988398</td>\n",
              "      <td>27.288655</td>\n",
              "      <td>-0.282789</td>\n",
              "      <td>4.734329</td>\n",
              "      <td>-6.352861</td>\n",
              "      <td>-5.152917</td>\n",
              "      <td>-7.108541</td>\n",
              "      <td>-12.305246</td>\n",
              "      <td>-13.802417</td>\n",
              "      <td>-15.335955</td>\n",
              "      <td>-15.268803</td>\n",
              "      <td>-12.98056</td>\n",
              "      <td>-9.619439</td>\n",
              "      <td>-7.790366</td>\n",
              "      <td>-6.414869</td>\n",
              "      <td>-2.911512</td>\n",
              "      <td>-4.147712</td>\n",
              "      <td>-9.525973</td>\n",
              "      <td>-9.198141</td>\n",
              "    </tr>\n",
              "  </tbody>\n",
              "</table>\n",
              "</div>"
            ],
            "text/plain": [
              "  filename  chroma_stft      rmse  ...    mfcc18    mfcc19    mfcc20\n",
              "0      new     0.246328  0.112484  ... -4.147712 -9.525973 -9.198141\n",
              "\n",
              "[1 rows x 27 columns]"
            ]
          },
          "metadata": {
            "tags": []
          },
          "execution_count": 10
        }
      ]
    },
    {
      "cell_type": "code",
      "metadata": {
        "id": "oJZhctqy4Udp",
        "colab_type": "code",
        "colab": {
          "base_uri": "https://localhost:8080/",
          "height": 34
        },
        "outputId": "76aba3bb-4faa-4879-9616-db4ee563b38a"
      },
      "source": [
        "data.shape"
      ],
      "execution_count": null,
      "outputs": [
        {
          "output_type": "execute_result",
          "data": {
            "text/plain": [
              "(1, 27)"
            ]
          },
          "metadata": {
            "tags": []
          },
          "execution_count": 11
        }
      ]
    },
    {
      "cell_type": "code",
      "metadata": {
        "id": "ozOruiid4ahg",
        "colab_type": "code",
        "colab": {}
      },
      "source": [
        "data = data.drop(['filename'],axis=1)"
      ],
      "execution_count": null,
      "outputs": []
    },
    {
      "cell_type": "code",
      "metadata": {
        "id": "_hS4ZyEZ45GR",
        "colab_type": "code",
        "colab": {}
      },
      "source": [
        "data2=data"
      ],
      "execution_count": null,
      "outputs": []
    },
    {
      "cell_type": "code",
      "metadata": {
        "id": "jzI2t_ED463o",
        "colab_type": "code",
        "colab": {
          "base_uri": "https://localhost:8080/",
          "height": 100
        },
        "outputId": "6c996de4-7363-4aed-bf8b-07835844f096"
      },
      "source": [
        "data2"
      ],
      "execution_count": null,
      "outputs": [
        {
          "output_type": "execute_result",
          "data": {
            "text/html": [
              "<div>\n",
              "<style scoped>\n",
              "    .dataframe tbody tr th:only-of-type {\n",
              "        vertical-align: middle;\n",
              "    }\n",
              "\n",
              "    .dataframe tbody tr th {\n",
              "        vertical-align: top;\n",
              "    }\n",
              "\n",
              "    .dataframe thead th {\n",
              "        text-align: right;\n",
              "    }\n",
              "</style>\n",
              "<table border=\"1\" class=\"dataframe\">\n",
              "  <thead>\n",
              "    <tr style=\"text-align: right;\">\n",
              "      <th></th>\n",
              "      <th>chroma_stft</th>\n",
              "      <th>rmse</th>\n",
              "      <th>spectral_centroid</th>\n",
              "      <th>spectral_bandwidth</th>\n",
              "      <th>rolloff</th>\n",
              "      <th>zero_crossing_rate</th>\n",
              "      <th>mfcc1</th>\n",
              "      <th>mfcc2</th>\n",
              "      <th>mfcc3</th>\n",
              "      <th>mfcc4</th>\n",
              "      <th>mfcc5</th>\n",
              "      <th>mfcc6</th>\n",
              "      <th>mfcc7</th>\n",
              "      <th>mfcc8</th>\n",
              "      <th>mfcc9</th>\n",
              "      <th>mfcc10</th>\n",
              "      <th>mfcc11</th>\n",
              "      <th>mfcc12</th>\n",
              "      <th>mfcc13</th>\n",
              "      <th>mfcc14</th>\n",
              "      <th>mfcc15</th>\n",
              "      <th>mfcc16</th>\n",
              "      <th>mfcc17</th>\n",
              "      <th>mfcc18</th>\n",
              "      <th>mfcc19</th>\n",
              "      <th>mfcc20</th>\n",
              "    </tr>\n",
              "  </thead>\n",
              "  <tbody>\n",
              "    <tr>\n",
              "      <th>0</th>\n",
              "      <td>0.246328</td>\n",
              "      <td>0.112484</td>\n",
              "      <td>558.318358</td>\n",
              "      <td>581.209446</td>\n",
              "      <td>891.477943</td>\n",
              "      <td>0.037158</td>\n",
              "      <td>-298.551732</td>\n",
              "      <td>196.988398</td>\n",
              "      <td>27.288655</td>\n",
              "      <td>-0.282789</td>\n",
              "      <td>4.734329</td>\n",
              "      <td>-6.352861</td>\n",
              "      <td>-5.152917</td>\n",
              "      <td>-7.108541</td>\n",
              "      <td>-12.305246</td>\n",
              "      <td>-13.802417</td>\n",
              "      <td>-15.335955</td>\n",
              "      <td>-15.268803</td>\n",
              "      <td>-12.98056</td>\n",
              "      <td>-9.619439</td>\n",
              "      <td>-7.790366</td>\n",
              "      <td>-6.414869</td>\n",
              "      <td>-2.911512</td>\n",
              "      <td>-4.147712</td>\n",
              "      <td>-9.525973</td>\n",
              "      <td>-9.198141</td>\n",
              "    </tr>\n",
              "  </tbody>\n",
              "</table>\n",
              "</div>"
            ],
            "text/plain": [
              "   chroma_stft      rmse  spectral_centroid  ...    mfcc18    mfcc19    mfcc20\n",
              "0     0.246328  0.112484         558.318358  ... -4.147712 -9.525973 -9.198141\n",
              "\n",
              "[1 rows x 26 columns]"
            ]
          },
          "metadata": {
            "tags": []
          },
          "execution_count": 12
        }
      ]
    },
    {
      "cell_type": "code",
      "metadata": {
        "id": "qQSUq2n85B3b",
        "colab_type": "code",
        "colab": {}
      },
      "source": [
        "##import the scaler pickle object from the main notebook\n",
        "import pickle\n",
        "with open(r\"scaler\", \"rb\") as input_file:\n",
        "  scaler = pickle.load(input_file)"
      ],
      "execution_count": null,
      "outputs": []
    },
    {
      "cell_type": "code",
      "metadata": {
        "id": "W78Ln2n35xsZ",
        "colab_type": "code",
        "colab": {}
      },
      "source": [
        "##transform the given song\n",
        "X2 = scaler.transform(data)"
      ],
      "execution_count": null,
      "outputs": []
    },
    {
      "cell_type": "code",
      "metadata": {
        "id": "_bxEGdBF5M9Z",
        "colab_type": "code",
        "colab": {
          "base_uri": "https://localhost:8080/",
          "height": 168
        },
        "outputId": "d7d8fb85-7cef-4662-be2a-13674535b5fc"
      },
      "source": [
        "X2"
      ],
      "execution_count": null,
      "outputs": [
        {
          "output_type": "execute_result",
          "data": {
            "text/plain": [
              "array([[-1.62052818e+00, -2.80937152e-01, -2.29668578e+00,\n",
              "        -3.15801354e+00, -2.33816089e+00, -1.58989455e+00,\n",
              "        -1.53787238e+00,  3.11136384e+00,  1.66991000e+00,\n",
              "        -2.19560707e+00,  4.81396765e-01, -1.77331276e+00,\n",
              "        -2.34417438e-03, -1.64725624e+00, -6.41240367e-01,\n",
              "        -2.71397137e+00, -1.36669159e+00, -2.94020634e+00,\n",
              "        -1.32677534e+00, -2.27701687e+00, -8.04618641e-01,\n",
              "        -1.65242609e+00,  2.32152961e-01, -1.20373142e+00,\n",
              "        -1.91736186e+00, -2.11262325e+00]])"
            ]
          },
          "metadata": {
            "tags": []
          },
          "execution_count": 16
        }
      ]
    },
    {
      "cell_type": "code",
      "metadata": {
        "id": "c6Cs7l4M5O0x",
        "colab_type": "code",
        "colab": {}
      },
      "source": [
        "##create an output variable y\n",
        "genre_list = data.iloc[:, -1]\n",
        "encoder = LabelEncoder()\n",
        "y2 = encoder.fit_transform(genre_list)"
      ],
      "execution_count": null,
      "outputs": []
    },
    {
      "cell_type": "code",
      "metadata": {
        "id": "awPV7W6N5RrS",
        "colab_type": "code",
        "colab": {
          "base_uri": "https://localhost:8080/",
          "height": 34
        },
        "outputId": "48801107-3a65-4dd9-d7f7-f3cdf27dc09c"
      },
      "source": [
        "y2"
      ],
      "execution_count": null,
      "outputs": [
        {
          "output_type": "execute_result",
          "data": {
            "text/plain": [
              "array([0])"
            ]
          },
          "metadata": {
            "tags": []
          },
          "execution_count": 19
        }
      ]
    },
    {
      "cell_type": "code",
      "metadata": {
        "id": "sJbr0VI7o7v4",
        "colab_type": "code",
        "colab": {
          "base_uri": "https://localhost:8080/",
          "height": 591
        },
        "outputId": "f560d243-626a-4924-9750-b5c81b113e38"
      },
      "source": [
        "##load the model \n",
        "new_model = keras.models.load_model('my_model.h5')\n",
        "new_model.summary()"
      ],
      "execution_count": null,
      "outputs": [
        {
          "output_type": "stream",
          "text": [
            "WARNING: Logging before flag parsing goes to stderr.\n",
            "W0827 01:50:21.869843 140595759675264 deprecation_wrapper.py:119] From /usr/local/lib/python3.6/dist-packages/keras/backend/tensorflow_backend.py:517: The name tf.placeholder is deprecated. Please use tf.compat.v1.placeholder instead.\n",
            "\n",
            "W0827 01:50:21.922616 140595759675264 deprecation_wrapper.py:119] From /usr/local/lib/python3.6/dist-packages/keras/backend/tensorflow_backend.py:4138: The name tf.random_uniform is deprecated. Please use tf.random.uniform instead.\n",
            "\n",
            "W0827 01:50:22.009242 140595759675264 deprecation_wrapper.py:119] From /usr/local/lib/python3.6/dist-packages/keras/backend/tensorflow_backend.py:174: The name tf.get_default_session is deprecated. Please use tf.compat.v1.get_default_session instead.\n",
            "\n",
            "W0827 01:50:22.010473 140595759675264 deprecation_wrapper.py:119] From /usr/local/lib/python3.6/dist-packages/keras/backend/tensorflow_backend.py:181: The name tf.ConfigProto is deprecated. Please use tf.compat.v1.ConfigProto instead.\n",
            "\n",
            "W0827 01:50:22.011807 140595759675264 deprecation_wrapper.py:119] From /usr/local/lib/python3.6/dist-packages/keras/backend/tensorflow_backend.py:186: The name tf.Session is deprecated. Please use tf.compat.v1.Session instead.\n",
            "\n",
            "W0827 01:50:22.314324 140595759675264 deprecation_wrapper.py:119] From /usr/local/lib/python3.6/dist-packages/keras/optimizers.py:790: The name tf.train.Optimizer is deprecated. Please use tf.compat.v1.train.Optimizer instead.\n",
            "\n",
            "W0827 01:50:22.413034 140595759675264 deprecation.py:323] From /usr/local/lib/python3.6/dist-packages/tensorflow/python/ops/math_grad.py:1250: add_dispatch_support.<locals>.wrapper (from tensorflow.python.ops.array_ops) is deprecated and will be removed in a future version.\n",
            "Instructions for updating:\n",
            "Use tf.where in 2.0, which has the same broadcast rule as np.where\n"
          ],
          "name": "stderr"
        },
        {
          "output_type": "stream",
          "text": [
            "_________________________________________________________________\n",
            "Layer (type)                 Output Shape              Param #   \n",
            "=================================================================\n",
            "dense_5 (Dense)              (None, 512)               13824     \n",
            "_________________________________________________________________\n",
            "dense_6 (Dense)              (None, 256)               131328    \n",
            "_________________________________________________________________\n",
            "dense_7 (Dense)              (None, 128)               32896     \n",
            "_________________________________________________________________\n",
            "dense_8 (Dense)              (None, 64)                8256      \n",
            "_________________________________________________________________\n",
            "dense_9 (Dense)              (None, 10)                650       \n",
            "=================================================================\n",
            "Total params: 186,954\n",
            "Trainable params: 186,954\n",
            "Non-trainable params: 0\n",
            "_________________________________________________________________\n"
          ],
          "name": "stdout"
        }
      ]
    },
    {
      "cell_type": "markdown",
      "metadata": {
        "id": "Y6FYf0VBBNl_",
        "colab_type": "text"
      },
      "source": [
        "##**PREDICTIONS**"
      ]
    },
    {
      "cell_type": "code",
      "metadata": {
        "id": "epSq9B82p0sf",
        "colab_type": "code",
        "colab": {}
      },
      "source": [
        "##pass your input song\n",
        "predictions = new_model.predict_proba(X2)"
      ],
      "execution_count": null,
      "outputs": []
    },
    {
      "cell_type": "code",
      "metadata": {
        "id": "zlBQQgsEp7_H",
        "colab_type": "code",
        "colab": {
          "base_uri": "https://localhost:8080/",
          "height": 67
        },
        "outputId": "3451f93e-5d98-4745-ae54-9acaea655ff2"
      },
      "source": [
        "predictions"
      ],
      "execution_count": null,
      "outputs": [
        {
          "output_type": "execute_result",
          "data": {
            "text/plain": [
              "array([[5.9421211e-02, 3.5493079e-01, 5.4361767e-01, 8.4569736e-04,\n",
              "        2.3032194e-06, 2.8121464e-02, 1.1234698e-08, 3.0554417e-03,\n",
              "        1.4593394e-03, 8.5461261e-03]], dtype=float32)"
            ]
          },
          "metadata": {
            "tags": []
          },
          "execution_count": 22
        }
      ]
    },
    {
      "cell_type": "code",
      "metadata": {
        "id": "pqa7z1pjp8_F",
        "colab_type": "code",
        "colab": {
          "base_uri": "https://localhost:8080/",
          "height": 34
        },
        "outputId": "3643cdd9-8234-455c-a2ff-2c7ad3ac54d7"
      },
      "source": [
        "np.sum(predictions[0])"
      ],
      "execution_count": null,
      "outputs": [
        {
          "output_type": "execute_result",
          "data": {
            "text/plain": [
              "1.0000001"
            ]
          },
          "metadata": {
            "tags": []
          },
          "execution_count": 23
        }
      ]
    },
    {
      "cell_type": "code",
      "metadata": {
        "id": "UzC7XVhCvhWo",
        "colab_type": "code",
        "colab": {
          "base_uri": "https://localhost:8080/",
          "height": 34
        },
        "outputId": "574a14f6-4088-4e5f-8189-df83ecd4bb84"
      },
      "source": [
        "np.max(predictions)"
      ],
      "execution_count": null,
      "outputs": [
        {
          "output_type": "execute_result",
          "data": {
            "text/plain": [
              "0.54361767"
            ]
          },
          "metadata": {
            "tags": []
          },
          "execution_count": 24
        }
      ]
    },
    {
      "cell_type": "code",
      "metadata": {
        "id": "ljr3MlPLqDEB",
        "colab_type": "code",
        "colab": {
          "base_uri": "https://localhost:8080/",
          "height": 34
        },
        "outputId": "e1e6036c-a2a2-44ec-8346-5a1e647f8322"
      },
      "source": [
        "np.argmax(predictions[0])"
      ],
      "execution_count": null,
      "outputs": [
        {
          "output_type": "execute_result",
          "data": {
            "text/plain": [
              "2"
            ]
          },
          "metadata": {
            "tags": []
          },
          "execution_count": 24
        }
      ]
    },
    {
      "cell_type": "code",
      "metadata": {
        "id": "a2tPoUP-qG9w",
        "colab_type": "code",
        "colab": {
          "base_uri": "https://localhost:8080/",
          "height": 51
        },
        "outputId": "ee1593b1-f903-4808-c15f-d457a3509567"
      },
      "source": [
        "s=np.argmax(predictions[0])\n",
        "\n",
        "print(s)\n",
        "\n",
        "if s==0:\n",
        "  print(\"blues\")\n",
        "elif s==1:\n",
        "  print(\"classical\")\n",
        "elif s==2:\n",
        "  print(\"country\")\n",
        "elif s==3:\n",
        "  print(\"disco\")\n",
        "elif s==4:\n",
        "  print(\"hiphop\")\n",
        "elif s==5:\n",
        "  print(\"jazz\")\n",
        "elif s==6:\n",
        "  print(\"metal\")\n",
        "elif s==7:\n",
        "  print(\"pop\")\n",
        "elif s==8:\n",
        "  print(\"reggae\")\n",
        "else:\n",
        "  print(\"rock\")"
      ],
      "execution_count": null,
      "outputs": [
        {
          "output_type": "stream",
          "text": [
            "2\n",
            "country\n"
          ],
          "name": "stdout"
        }
      ]
    }
  ]
}